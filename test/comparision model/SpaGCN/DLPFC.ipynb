{
 "cells": [
  {
   "metadata": {
    "ExecuteTime": {
     "end_time": "2025-08-01T13:32:05.717916Z",
     "start_time": "2025-08-01T13:32:00.842029Z"
    }
   },
   "cell_type": "code",
   "source": [
    "import os, csv, re\n",
    "import pandas as pd\n",
    "import numpy as np\n",
    "import scanpy as sc\n",
    "import math\n",
    "import SpaGCN as spg\n",
    "from scipy.sparse import issparse\n",
    "import random, torch\n",
    "import warnings\n",
    "\n",
    "warnings.filterwarnings(\"ignore\")\n",
    "import matplotlib.colors as clr\n",
    "import matplotlib.pyplot as plt\n",
    "import SpaGCN as spg\n",
    "import cv2\n",
    "from anndata import AnnData\n",
    "from sklearn.metrics import accuracy_score\n",
    "from sklearn.metrics import adjusted_rand_score\n",
    "import numpy as np\n",
    "from sklearn.metrics import confusion_matrix\n",
    "from scipy.optimize import linear_sum_assignment"
   ],
   "id": "ff1997e1d18a17d0",
   "outputs": [],
   "execution_count": 2
  },
  {
   "metadata": {
    "ExecuteTime": {
     "end_time": "2025-08-01T13:32:26.423676Z",
     "start_time": "2025-08-01T13:32:07.954165Z"
    }
   },
   "cell_type": "code",
   "source": [
    "base_dir = r\"C:\\E\\JSU\\BIO\\file\\SpaGCN-master\\SpaGCN-master\\tutorial\"\n",
    "slicenames =['151507']\n",
    "slicenames = [\"151507\", \"151508\", \"151509\",'151510','151669','151670','151671','151672','151673','151674','151675','151676']\n",
    "\n",
    "for slicename in slicenames:\n",
    "    spatial_path = os.path.join(base_dir, slicename, \"spatial\", \"tissue_positions_list.csv\")\n",
    "    spatial_data = pd.read_csv(spatial_path, sep=\",\", header=None)\n",
    "\n",
    "    spatial_data.columns = ['barcode', 'in_tissue', 'row', 'col', 'pxl_row_in_fullres', 'pxl_col_in_fullres']\n",
    "    spatial_data = spatial_data[spatial_data['in_tissue'] == 1]  # remain cells within tissue (denoted by 1)\n",
    "    meta_path = os.path.join(base_dir,slicename,'metadata.tsv')\n",
    "    meta = pd.read_csv(meta_path, sep=\"\\t\",index_col=False)\n",
    "    meta.drop(columns=['row', 'col'], inplace=True)  # delete repeated columns\n",
    "\n",
    "    data = spatial_data.merge(meta, on='barcode', how='right')\n",
    "    data = data[['barcode', 'row', 'col', 'pxl_row_in_fullres', 'pxl_col_in_fullres', 'expr_chrM']]\n",
    "    data = data.dropna(subset=['expr_chrM'])  # delete missing data\n",
    "    # labels\n",
    "    label_mapping = {'L1': 1, 'L2': 2, 'L3': 3, 'L4': 4, 'L5': 5, 'L6': 6, 'WM': 0} # DLPFC\n",
    "    labels = data['expr_chrM'].map(label_mapping)\n",
    "\n",
    "\n",
    "    # Annotated Data\n",
    "    # file_path = r\"C:\\E\\JSU\\BIO\\file\\SpaGCN-master\\SpaGCN-master\\tutorial\\151673\\filtered_feature_bc_matrix.h5\"\n",
    "    file_path = os.path.join(base_dir,slicename,\"filtered_feature_bc_matrix.h5\")\n",
    "\n",
    "    adata = sc.read_10x_h5(file_path)\n",
    "    adata = adata[data.index]\n",
    "    im_path = os.path.join(base_dir,slicename,\"spatial\",'full_image.tif')\n",
    "    img=cv2.imread(im_path)\n",
    "\n",
    "    adata.var_names_make_unique()\n",
    "    spg.prefilter_genes(adata,min_cells=3) # avoiding all genes are zeros\n",
    "    spg.prefilter_specialgenes(adata)\n",
    "    #Normalize and take log for UMI\n",
    "    sc.pp.normalize_per_cell(adata)\n",
    "    sc.pp.log1p(adata)\n",
    "\n",
    "    #Read in hitology image\n",
    "    spatial_data = data.iloc[:, :5]\n",
    "    x_array = spatial_data['row'].tolist()\n",
    "    y_array = spatial_data['col'].tolist()\n",
    "    x_pixel = spatial_data['pxl_row_in_fullres'].tolist()\n",
    "    y_pixel = spatial_data['pxl_col_in_fullres'].tolist()"
   ],
   "id": "73c26123e6397772",
   "outputs": [],
   "execution_count": 3
  },
  {
   "metadata": {
    "ExecuteTime": {
     "end_time": "2025-08-01T13:33:17.856752Z",
     "start_time": "2025-08-01T13:32:38.226986Z"
    }
   },
   "cell_type": "code",
   "source": [
    "    #Calculate adjacent matrix\n",
    "    s=1\n",
    "    b=49\n",
    "    adj=spg.calculate_adj_matrix(x=x_pixel,y=y_pixel, x_pixel=x_pixel, y_pixel=y_pixel, image=img, beta=b, alpha=s, histology=True)\n",
    "\n",
    "    folder_path = fr'C:\\E\\JSU\\BIO\\file\\STrafer\\params\\DLPFC\\SPAGCN\\{slicename}'\n",
    "    os.makedirs(folder_path, exist_ok=True)\n",
    "    file_path = os.path.join(folder_path, 'adj.csv')\n",
    "    np.savetxt(file_path, adj, delimiter=',')\n",
    "    adj = np.loadtxt(file_path, delimiter=',')\n",
    "\n",
    "    p=0.5\n",
    "    #Find the l value given p\n",
    "    l=spg.search_l(p, adj, start=0.01, end=1000, tol=0.01, max_run=100)\n",
    "\n",
    "    #For this toy data, we set the number of clusters=7 since this tissue has 7 layers\n",
    "    n_clusters=7\n",
    "    #Set seed\n",
    "    r_seed=t_seed=n_seed=100\n",
    "    #Search for suitable resolution\n",
    "    res=spg.search_res(adata, adj, l, n_clusters, start=0.7, step=0.1, tol=5e-3, lr=0.05, max_epochs=20, r_seed=r_seed, t_seed=t_seed, n_seed=n_seed)\n",
    "\n",
    "    clf=spg.SpaGCN()\n",
    "    clf.set_l(l)\n",
    "    #Set seed\n",
    "    random.seed(r_seed)\n",
    "    torch.manual_seed(t_seed)\n",
    "    np.random.seed(n_seed)\n",
    "    #Run\n",
    "    clf.train(adata,adj,init_spa=True,init=\"louvain\",res=res, tol=5e-3, lr=0.05, max_epochs=200)\n",
    "    y_pred, prob=clf.predict()\n",
    "    adata.obs[\"pred\"]= y_pred\n",
    "    adata.obs[\"pred\"]=adata.obs[\"pred\"].astype('category')\n",
    "    #Do cluster refinement(optional)\n",
    "    #shape=\"hexagon\" for Visium data, \"square\" for ST data.\n",
    "    adj_2d=spg.calculate_adj_matrix(x=x_array,y=y_array, histology=False)\n",
    "    refined_pred=spg.refine(sample_id=adata.obs.index.tolist(), pred=adata.obs[\"pred\"].tolist(), dis=adj_2d, shape=\"hexagon\")\n",
    "    adata.obs[\"refined_pred\"]=refined_pred\n",
    "    adata.obs[\"refined_pred\"]=adata.obs[\"refined_pred\"].astype('category')"
   ],
   "id": "1f770fd33bf916bf",
   "outputs": [
    {
     "name": "stdout",
     "output_type": "stream",
     "text": [
      "Calculateing adj matrix using histology image...\n",
      "Var of c0,c1,c2 =  29.477509465304824 174.8015556779522 60.95093839727311\n",
      "Var of x,y,z =  5080995.703721643 4365111.426668278 5080995.703721643\n",
      "Run 1: l [0.01, 1000], p [0.0, 161.7471317017666]\n",
      "Run 2: l [0.01, 500.005], p [0.0, 30.984823179124525]\n",
      "Run 3: l [0.01, 250.0075], p [0.0, 4.849617891160691]\n",
      "Run 4: l [0.01, 125.00874999999999], p [0.0, 0.6140842850865946]\n",
      "Run 5: l [62.509375, 125.00874999999999], p [0.03502943121229607, 0.6140842850865946]\n",
      "Run 6: l [93.7590625, 125.00874999999999], p [0.22746464452421056, 0.6140842850865946]\n",
      "Run 7: l [109.38390625, 125.00874999999999], p [0.39411875367635885, 0.6140842850865946]\n",
      "recommended l =  117.196328125\n",
      "Start at res =  0.7 step =  0.1\n",
      "Initializing cluster centers with louvain, resolution =  0.7\n",
      "Epoch  0\n",
      "Epoch  10\n",
      "Res =  0.7 Num of clusters =  6\n",
      "Initializing cluster centers with louvain, resolution =  0.7999999999999999\n",
      "Epoch  0\n",
      "Epoch  10\n",
      "Res =  0.7999999999999999 Num of clusters =  7\n",
      "recommended res =  0.7999999999999999\n",
      "Initializing cluster centers with louvain, resolution =  0.7999999999999999\n",
      "Epoch  0\n",
      "Epoch  10\n",
      "Epoch  20\n",
      "Epoch  30\n",
      "Epoch  40\n",
      "delta_label  0.0034975225881667153 < tol  0.005\n",
      "Reach tolerance threshold. Stopping training.\n",
      "Total epoch: 43\n",
      "Calculateing adj matrix using xy only...\n"
     ]
    }
   ],
   "execution_count": 4
  },
  {
   "metadata": {
    "ExecuteTime": {
     "end_time": "2025-08-01T13:35:20.107387Z",
     "start_time": "2025-08-01T13:35:20.087929Z"
    }
   },
   "cell_type": "code",
   "source": [
    "    conf_mat = confusion_matrix(labels, y_pred, labels=np.arange(8))\n",
    "    row_ind, col_ind = linear_sum_assignment(-conf_mat)\n",
    "    mapping = {pred_label: true_label for true_label, pred_label in zip(row_ind, col_ind)}\n",
    "    y_pred = np.array([mapping[p] for p in y_pred])\n",
    "    pred_labels_list = pd.DataFrame({\n",
    "        'spot': list(range(1, len(y_pred) + 1)),\n",
    "        'pred': y_pred\n",
    "    })\n",
    "    file_path_pred = os.path.join(folder_path, 'pred_labels.csv')\n",
    "    pred_labels_list.to_csv(file_path_pred, index=False)\n",
    "    ARI_s = adjusted_rand_score(y_pred, labels)\n",
    "    acc_s = accuracy_score(y_pred, labels)\n",
    "    print(\"ARI_s:\", ARI_s)\n",
    "    print(\"acc_s\", acc_s)"
   ],
   "id": "initial_id",
   "outputs": [
    {
     "name": "stdout",
     "output_type": "stream",
     "text": [
      "ARI_s: 0.3253886141084341\n",
      "acc_s 0.47770329350043716\n"
     ]
    }
   ],
   "execution_count": 5
  },
  {
   "metadata": {},
   "cell_type": "code",
   "outputs": [],
   "execution_count": null,
   "source": "",
   "id": "fb7643811de0013b"
  }
 ],
 "metadata": {
  "kernelspec": {
   "display_name": "Python 3",
   "language": "python",
   "name": "python3"
  },
  "language_info": {
   "codemirror_mode": {
    "name": "ipython",
    "version": 2
   },
   "file_extension": ".py",
   "mimetype": "text/x-python",
   "name": "python",
   "nbconvert_exporter": "python",
   "pygments_lexer": "ipython2",
   "version": "2.7.6"
  }
 },
 "nbformat": 4,
 "nbformat_minor": 5
}
