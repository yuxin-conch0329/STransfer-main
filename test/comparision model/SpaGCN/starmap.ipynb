{
 "cells": [
  {
   "cell_type": "code",
   "id": "initial_id",
   "metadata": {
    "collapsed": true,
    "ExecuteTime": {
     "end_time": "2025-08-01T13:20:50.568545Z",
     "start_time": "2025-08-01T13:20:43.601981Z"
    }
   },
   "source": [
    "import pandas as pd\n",
    "import scanpy as sc\n",
    "import random, torch\n",
    "import warnings\n",
    "warnings.filterwarnings(\"ignore\")\n",
    "import SpaGCN as spg\n",
    "#In order to read in image data, we need to install some package. Here we recommend package \"opencv\"\n",
    "#inatll opencv in python\n",
    "#!pip3 install opencv-python\n",
    "import cv2\n",
    "from anndata import AnnData\n",
    "from sklearn.metrics import accuracy_score\n",
    "from sklearn.metrics import adjusted_rand_score\n",
    "import numpy as np\n",
    "from sklearn.metrics import confusion_matrix\n",
    "from scipy.optimize import linear_sum_assignment"
   ],
   "outputs": [],
   "execution_count": 1
  },
  {
   "metadata": {
    "ExecuteTime": {
     "end_time": "2025-08-01T13:20:52.547422Z",
     "start_time": "2025-08-01T13:20:52.507971Z"
    }
   },
   "cell_type": "code",
   "source": [
    "slicename = \"BZ14\"\n",
    "expr_path = fr\"C:\\E\\JSU\\BIO\\file\\STrafer\\params\\starmap\\starmap_expr_{slicename}.csv\"\n",
    "spatial_path = fr\"C:\\E\\JSU\\BIO\\file\\STrafer\\params\\starmap\\starmap_spatial_{slicename}.csv\"\n",
    "meta = pd.read_csv(expr_path, index_col=0)\n",
    "spatial_data = pd.read_csv(spatial_path, index_col=0)\n",
    "data = spatial_data.merge(meta, left_index=True, right_index=True, how='right')\n",
    "labels = data['z'].replace(4, 0)"
   ],
   "id": "a471006449d4b68d",
   "outputs": [],
   "execution_count": 2
  },
  {
   "metadata": {
    "ExecuteTime": {
     "end_time": "2025-08-01T13:20:53.138265Z",
     "start_time": "2025-08-01T13:20:53.071207Z"
    }
   },
   "cell_type": "code",
   "source": [
    "adata = AnnData(X=meta.values)\n",
    "adata.obsm['spatial'] = spatial_data[['x', 'y']].values\n",
    "adata.var_names = meta.columns\n",
    "adata.obs_names = spatial_data.index\n",
    "adata.write_h5ad(fr\"C:\\E\\JSU\\BIO\\file\\STrafer\\params\\starmap\\starmap_{slicename}.h5ad\")\n",
    "adata = sc.read_h5ad(fr\"C:\\E\\JSU\\BIO\\file\\STrafer\\params\\starmap\\starmap_{slicename}.h5ad\")\n",
    "adata = adata[data.index]\n",
    "adata.var_names_make_unique()\n",
    "# pre-process\n",
    "# adata.layers['count'] = adata.X.toarray()\n",
    "adata.layers['count'] = adata.X\n",
    "sc.pp.filter_genes(adata, min_cells=50)\n",
    "sc.pp.filter_genes(adata, min_counts=10)\n",
    "sc.pp.normalize_total(adata, target_sum=1e6)\n",
    "sc.pp.highly_variable_genes(adata, flavor=\"seurat_v3\", layer='count', n_top_genes=150)\n",
    "adata = adata[:, adata.var['highly_variable'] == True]\n",
    "sc.pp.scale(adata)"
   ],
   "id": "33d31a2b767b1044",
   "outputs": [],
   "execution_count": 3
  },
  {
   "metadata": {
    "ExecuteTime": {
     "end_time": "2025-08-01T13:20:56.231219Z",
     "start_time": "2025-08-01T13:20:56.215416Z"
    }
   },
   "cell_type": "code",
   "source": [
    "x_array = spatial_data['x'].values\n",
    "y_array = spatial_data['y'].values"
   ],
   "id": "f4cb722da8fb3960",
   "outputs": [],
   "execution_count": 4
  },
  {
   "metadata": {
    "ExecuteTime": {
     "end_time": "2025-08-01T13:20:56.900028Z",
     "start_time": "2025-08-01T13:20:56.884244Z"
    }
   },
   "cell_type": "code",
   "source": [
    "x_pixel = spatial_data['x'].values\n",
    "y_pixel = spatial_data['y'].values"
   ],
   "id": "f901da726c44e1ef",
   "outputs": [],
   "execution_count": 5
  },
  {
   "metadata": {
    "ExecuteTime": {
     "end_time": "2025-08-01T13:20:58.887777Z",
     "start_time": "2025-08-01T13:20:57.813543Z"
    }
   },
   "cell_type": "code",
   "source": [
    "s=1\n",
    "b=49\n",
    "adj=spg.calculate_adj_matrix(x=x_pixel,y=y_pixel, x_pixel=x_pixel, y_pixel=y_pixel, beta=b, alpha=s, histology=False)\n",
    "#If histlogy image is not available, SpaGCN can calculate the adjacent matrix using the fnction below\n",
    "#adj=calculate_adj_matrix(x=x_pixel,y=y_pixel, histology=False)\n",
    "np.savetxt(fr'C:\\E\\JSU\\BIO\\file\\STrafer\\params\\starmap\\SPAGCN\\{slicename}\\adj.csv', adj, delimiter=',')\n",
    "adj=np.loadtxt(fr'C:\\E\\JSU\\BIO\\file\\STrafer\\params\\starmap\\SPAGCN\\{slicename}\\adj.csv', delimiter=',')\n",
    "\n",
    "p=0.5\n",
    "#Find the l value given p\n",
    "l=spg.search_l(p, adj, start=0.01, end=1000, tol=0.01, max_run=100)"
   ],
   "id": "291d931b0b1dc96b",
   "outputs": [
    {
     "name": "stdout",
     "output_type": "stream",
     "text": [
      "Calculateing adj matrix using xy only...\n",
      "Run 1: l [0.01, 1000], p [0.0, 75.30559154992433]\n",
      "Run 2: l [0.01, 500.005], p [0.0, 20.47630442078767]\n",
      "Run 3: l [0.01, 250.0075], p [0.0, 4.99878217995026]\n",
      "Run 4: l [0.01, 125.00874999999999], p [0.0, 0.9033971482752359]\n",
      "Run 5: l [62.509375, 125.00874999999999], p [0.055714749148429554, 0.9033971482752359]\n",
      "Run 6: l [93.7590625, 125.00874999999999], p [0.3502807332205198, 0.9033971482752359]\n",
      "Run 7: l [93.7590625, 109.38390625], p [0.3502807332205198, 0.597852175251619]\n",
      "Run 8: l [101.571484375, 109.38390625], p [0.4663908553024856, 0.597852175251619]\n",
      "Run 9: l [101.571484375, 105.4776953125], p [0.4663908553024856, 0.530259670206541]\n",
      "recommended l =  103.52458984375\n"
     ]
    }
   ],
   "execution_count": 6
  },
  {
   "metadata": {
    "ExecuteTime": {
     "end_time": "2025-08-01T13:21:20.309778Z",
     "start_time": "2025-08-01T13:21:03.430109Z"
    }
   },
   "cell_type": "code",
   "source": [
    "n_clusters=4\n",
    "#Set seed\n",
    "r_seed=t_seed=n_seed=100\n",
    "#Search for suitable resolution\n",
    "res=spg.search_res(adata, adj, l, n_clusters, start=0.7, step=0.1, tol=5e-3, lr=0.05, max_epochs=20, r_seed=r_seed, t_seed=t_seed, n_seed=n_seed)\n",
    "\n",
    "clf=spg.SpaGCN()\n",
    "clf.set_l(l)\n",
    "#Set seed\n",
    "random.seed(r_seed)\n",
    "torch.manual_seed(t_seed)\n",
    "np.random.seed(n_seed)\n",
    "#Run\n",
    "clf.train(adata,adj,init_spa=True,init=\"louvain\",res=res, tol=5e-3, lr=0.05, max_epochs=200)\n",
    "y_pred, prob=clf.predict()"
   ],
   "id": "421e409c415f1778",
   "outputs": [
    {
     "name": "stdout",
     "output_type": "stream",
     "text": [
      "Start at res =  0.7 step =  0.1\n",
      "Initializing cluster centers with louvain, resolution =  0.7\n",
      "Epoch  0\n",
      "Epoch  10\n",
      "Res =  0.7 Num of clusters =  7\n",
      "Initializing cluster centers with louvain, resolution =  0.6\n",
      "Epoch  0\n",
      "Epoch  10\n",
      "Res =  0.6 Num of clusters =  7\n",
      "Res changed to 0.6\n",
      "Initializing cluster centers with louvain, resolution =  0.5\n",
      "Epoch  0\n",
      "Epoch  10\n",
      "Res =  0.5 Num of clusters =  5\n",
      "Res changed to 0.5\n",
      "Initializing cluster centers with louvain, resolution =  0.4\n",
      "Epoch  0\n",
      "Epoch  10\n",
      "Res =  0.4 Num of clusters =  3\n",
      "Step changed to 0.05\n",
      "Initializing cluster centers with louvain, resolution =  0.45\n",
      "Epoch  0\n",
      "Epoch  10\n",
      "Res =  0.45 Num of clusters =  4\n",
      "recommended res =  0.45\n",
      "Initializing cluster centers with louvain, resolution =  0.45\n",
      "Epoch  0\n",
      "Epoch  10\n",
      "Epoch  20\n",
      "Epoch  30\n",
      "Epoch  40\n",
      "Epoch  50\n",
      "Epoch  60\n",
      "Epoch  70\n",
      "Epoch  80\n",
      "Epoch  90\n",
      "Epoch  100\n",
      "Epoch  110\n",
      "Epoch  120\n",
      "Epoch  130\n",
      "Epoch  140\n",
      "Epoch  150\n",
      "Epoch  160\n",
      "Epoch  170\n",
      "Epoch  180\n",
      "Epoch  190\n"
     ]
    }
   ],
   "execution_count": 7
  },
  {
   "metadata": {
    "ExecuteTime": {
     "end_time": "2025-08-01T13:21:40.342547Z",
     "start_time": "2025-08-01T13:21:40.326693Z"
    }
   },
   "cell_type": "code",
   "source": [
    "conf_mat = confusion_matrix(labels, y_pred, labels=np.arange(4))\n",
    "row_ind, col_ind = linear_sum_assignment(-conf_mat)\n",
    "mapping = {pred_label: true_label for true_label, pred_label in zip(row_ind, col_ind)}\n",
    "y_pred = np.array([mapping[p] for p in y_pred])\n"
   ],
   "id": "da387123c6f7e092",
   "outputs": [],
   "execution_count": 8
  },
  {
   "metadata": {
    "ExecuteTime": {
     "end_time": "2025-08-01T13:21:40.889810Z",
     "start_time": "2025-08-01T13:21:40.865662Z"
    }
   },
   "cell_type": "code",
   "source": [
    "pred_labels_list = pd.DataFrame({\n",
    "    'spot': list(range(1, len(y_pred) + 1)),\n",
    "    'pred': y_pred})\n",
    "pred_labels_list.to_csv(fr\"C:\\E\\JSU\\BIO\\file\\STrafer\\params\\starmap\\SPAGCN\\{slicename}\\pred_labels.csv\", index=False)"
   ],
   "id": "bdee34ace9eaffd2",
   "outputs": [],
   "execution_count": 9
  },
  {
   "metadata": {
    "ExecuteTime": {
     "end_time": "2025-08-01T13:21:42.391124Z",
     "start_time": "2025-08-01T13:21:42.375193Z"
    }
   },
   "cell_type": "code",
   "source": [
    "ARI_s = adjusted_rand_score(y_pred, labels)\n",
    "acc_s = accuracy_score(y_pred, labels)\n",
    "print(\"ARI_s:\", ARI_s)\n",
    "print(\"acc_s\", acc_s)"
   ],
   "id": "e8adb6584e78d874",
   "outputs": [
    {
     "name": "stdout",
     "output_type": "stream",
     "text": [
      "ARI_s: 0.1941315609956136\n",
      "acc_s 0.5018382352941176\n"
     ]
    }
   ],
   "execution_count": 10
  },
  {
   "metadata": {},
   "cell_type": "code",
   "outputs": [],
   "execution_count": null,
   "source": "",
   "id": "185430dfb3749e03"
  }
 ],
 "metadata": {
  "kernelspec": {
   "display_name": "Python 3",
   "language": "python",
   "name": "python3"
  },
  "language_info": {
   "codemirror_mode": {
    "name": "ipython",
    "version": 2
   },
   "file_extension": ".py",
   "mimetype": "text/x-python",
   "name": "python",
   "nbconvert_exporter": "python",
   "pygments_lexer": "ipython2",
   "version": "2.7.6"
  }
 },
 "nbformat": 4,
 "nbformat_minor": 5
}
