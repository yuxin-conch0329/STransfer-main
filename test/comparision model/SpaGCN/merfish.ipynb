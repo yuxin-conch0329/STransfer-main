{
 "cells": [
  {
   "cell_type": "code",
   "id": "initial_id",
   "metadata": {
    "collapsed": true,
    "ExecuteTime": {
     "end_time": "2025-08-01T13:25:46.400270Z",
     "start_time": "2025-08-01T13:25:42.341743Z"
    }
   },
   "source": [
    "import os\n",
    "import pandas as pd\n",
    "\n",
    "import scanpy as sc\n",
    "import random, torch\n",
    "import warnings\n",
    "warnings.filterwarnings(\"ignore\")\n",
    "import SpaGCN as spg\n",
    "#In order to read in image data, we need to install some package. Here we recommend package \"opencv\"\n",
    "#inatll opencv in python\n",
    "#!pip3 install opencv-python\n",
    "import cv2\n",
    "from anndata import AnnData\n",
    "from sklearn.metrics import accuracy_score\n",
    "from sklearn.metrics import adjusted_rand_score\n",
    "import numpy as np\n",
    "from sklearn.metrics import confusion_matrix\n",
    "from scipy.optimize import linear_sum_assignment"
   ],
   "outputs": [],
   "execution_count": 1
  },
  {
   "metadata": {
    "ExecuteTime": {
     "end_time": "2025-08-01T13:28:25.262648Z",
     "start_time": "2025-08-01T13:25:50.644178Z"
    }
   },
   "cell_type": "code",
   "source": [
    "for slicename in range(25, 30):  # 25  29\n",
    "    slicename = str(slicename)\n",
    "    adata = sc.read_h5ad(fr\"C:\\E\\JSU\\BIO\\file\\STrafer\\params\\merfish\\{slicename}.h5ad\")\n",
    "    label_mapping = {'MPA': 1, 'MPN': 2, 'BST': 3, 'fx': 4, \"PVH\":5,\"PVT\":6,\"V3\":7, 'PV': 0}\n",
    "    labels = adata.obs['ground_truth'].map(label_mapping)\n",
    "    adata.var_names_make_unique()\n",
    "    # pre-process\n",
    "    adata.layers['count'] = adata.X\n",
    "    sc.pp.filter_genes(adata, min_cells=50)\n",
    "    sc.pp.filter_genes(adata, min_counts=10)\n",
    "    sc.pp.normalize_total(adata, target_sum=1e6)\n",
    "    sc.pp.highly_variable_genes(adata, flavor=\"seurat_v3\", layer='count', n_top_genes=150)\n",
    "    adata = adata[:, adata.var['highly_variable'] == True]\n",
    "    sc.pp.scale(adata)    \n",
    "    x_array = adata.obsm['spatial'][:, 0]\n",
    "    y_array = adata.obsm['spatial'][:, 1]    \n",
    "    s=1\n",
    "    b=49\n",
    "    adj=spg.calculate_adj_matrix(x=x_array,y=y_array, x_pixel=x_array, y_pixel=y_array, beta=b, alpha=s, histology=False)\n",
    "    \n",
    "    folder_path = fr'C:\\E\\JSU\\BIO\\file\\STrafer\\params\\merfish\\SPAGCN\\{slicename}'\n",
    "    os.makedirs(folder_path, exist_ok=True)\n",
    "    file_path = os.path.join(folder_path, 'adj.csv')\n",
    "    np.savetxt(file_path, adj, delimiter=',')\n",
    "    \n",
    "    adj=np.loadtxt(file_path, delimiter=',')\n",
    "    p=0.5\n",
    "    #Find the l value given p\n",
    "    l=spg.search_l(p, adj, start=0.01, end=1000, tol=0.01, max_run=100)    \n",
    "    n_clusters=8\n",
    "    #Set seed\n",
    "    r_seed=t_seed=n_seed=100\n",
    "    #Search for suitable resolution\n",
    "    res=spg.search_res(adata, adj, l, n_clusters, start=0.7, step=0.1, tol=5e-3, lr=0.05, max_epochs=20, r_seed=r_seed, t_seed=t_seed, n_seed=n_seed)\n",
    "    \n",
    "    clf=spg.SpaGCN()\n",
    "    clf.set_l(l)\n",
    "    #Set seed\n",
    "    random.seed(r_seed)\n",
    "    torch.manual_seed(t_seed)\n",
    "    np.random.seed(n_seed)\n",
    "    #Run\n",
    "    clf.train(adata,adj,init_spa=True,init=\"louvain\",res=res, tol=5e-3, lr=0.05, max_epochs=200)\n",
    "    y_pred, prob=clf.predict()"
   ],
   "id": "936ea9f4d881687c",
   "outputs": [
    {
     "name": "stdout",
     "output_type": "stream",
     "text": [
      "Calculateing adj matrix using xy only...\n",
      "Run 1: l [0.01, 1000], p [0.0, 3620.6197702048403]\n",
      "Run 2: l [0.01, 500.005], p [0.0, 1739.4111349480254]\n",
      "Run 3: l [0.01, 250.0075], p [0.0, 571.4368495576911]\n",
      "Run 4: l [0.01, 125.00874999999999], p [0.0, 159.58733009197778]\n",
      "Run 5: l [0.01, 62.509375], p [0.0, 41.85332553130277]\n",
      "Run 6: l [0.01, 31.2596875], p [0.0, 10.534401514335222]\n",
      "Run 7: l [0.01, 15.63484375], p [0.0, 2.424396455767176]\n",
      "Run 8: l [7.822421875, 15.63484375], p [0.4425786968261767, 2.424396455767176]\n",
      "Run 9: l [7.822421875, 11.728632812499999], p [0.4425786968261767, 1.2414307603567876]\n",
      "Run 10: l [7.822421875, 9.77552734375], p [0.4425786968261767, 0.7917804443247025]\n",
      "Run 11: l [7.822421875, 8.798974609375], p [0.4425786968261767, 0.6044623855519853]\n",
      "Run 12: l [7.822421875, 8.310698242187499], p [0.4425786968261767, 0.5203384404306686]\n",
      "Run 13: l [8.06656005859375, 8.310698242187499], p [0.4806640586871078, 0.5203384404306686]\n",
      "recommended l =  8.188629150390625\n",
      "Start at res =  0.7 step =  0.1\n",
      "Initializing cluster centers with louvain, resolution =  0.7\n",
      "Epoch  0\n",
      "Epoch  10\n",
      "Res =  0.7 Num of clusters =  18\n",
      "Initializing cluster centers with louvain, resolution =  0.6\n",
      "Epoch  0\n",
      "Epoch  10\n",
      "Res =  0.6 Num of clusters =  18\n",
      "Res changed to 0.6\n",
      "Initializing cluster centers with louvain, resolution =  0.5\n",
      "Epoch  0\n",
      "Epoch  10\n",
      "Res =  0.5 Num of clusters =  14\n",
      "Res changed to 0.5\n",
      "Initializing cluster centers with louvain, resolution =  0.4\n",
      "Epoch  0\n",
      "Epoch  10\n",
      "Res =  0.4 Num of clusters =  13\n",
      "Res changed to 0.4\n",
      "Initializing cluster centers with louvain, resolution =  0.30000000000000004\n",
      "Epoch  0\n",
      "Epoch  10\n",
      "Res =  0.30000000000000004 Num of clusters =  11\n",
      "Res changed to 0.30000000000000004\n",
      "Initializing cluster centers with louvain, resolution =  0.20000000000000004\n",
      "Epoch  0\n",
      "Epoch  10\n",
      "Res =  0.20000000000000004 Num of clusters =  8\n",
      "recommended res =  0.20000000000000004\n",
      "Initializing cluster centers with louvain, resolution =  0.20000000000000004\n",
      "Epoch  0\n",
      "Epoch  10\n",
      "Epoch  20\n",
      "Epoch  30\n",
      "delta_label  0.003097667638483965 < tol  0.005\n",
      "Reach tolerance threshold. Stopping training.\n",
      "Total epoch: 31\n",
      "Calculateing adj matrix using xy only...\n",
      "Run 1: l [0.01, 1000], p [0.0, 3694.5959048890045]\n",
      "Run 2: l [0.01, 500.005], p [0.0, 1787.8207695631195]\n",
      "Run 3: l [0.01, 250.0075], p [0.0, 591.7874608067812]\n",
      "Run 4: l [0.01, 125.00874999999999], p [0.0, 166.67357884640936]\n",
      "Run 5: l [0.01, 62.509375], p [0.0, 43.93852117532321]\n",
      "Run 6: l [0.01, 31.2596875], p [0.0, 11.105072143025943]\n",
      "Run 7: l [0.01, 15.63484375], p [0.0, 2.5632770698777034]\n",
      "Run 8: l [7.822421875, 15.63484375], p [0.4639922380878483, 2.5632770698777034]\n",
      "Run 9: l [7.822421875, 11.728632812499999], p [0.4639922380878483, 1.3111552150349]\n",
      "Run 10: l [7.822421875, 9.77552734375], p [0.4639922380878483, 0.8338946083934737]\n",
      "Run 11: l [7.822421875, 8.798974609375], p [0.4639922380878483, 0.63522494862714]\n",
      "Run 12: l [7.822421875, 8.310698242187499], p [0.4639922380878483, 0.5461620151004694]\n",
      "recommended l =  8.06656005859375\n",
      "Start at res =  0.7 step =  0.1\n",
      "Initializing cluster centers with louvain, resolution =  0.7\n",
      "Epoch  0\n",
      "Epoch  10\n",
      "Res =  0.7 Num of clusters =  17\n",
      "Initializing cluster centers with louvain, resolution =  0.6\n",
      "Epoch  0\n",
      "Epoch  10\n",
      "Res =  0.6 Num of clusters =  16\n",
      "Res changed to 0.6\n",
      "Initializing cluster centers with louvain, resolution =  0.5\n",
      "Epoch  0\n",
      "Epoch  10\n",
      "Res =  0.5 Num of clusters =  12\n",
      "Res changed to 0.5\n",
      "Initializing cluster centers with louvain, resolution =  0.4\n",
      "Epoch  0\n",
      "Epoch  10\n",
      "Res =  0.4 Num of clusters =  9\n",
      "Res changed to 0.4\n",
      "Initializing cluster centers with louvain, resolution =  0.30000000000000004\n",
      "Epoch  0\n",
      "Epoch  10\n",
      "Res =  0.30000000000000004 Num of clusters =  8\n",
      "recommended res =  0.30000000000000004\n",
      "Initializing cluster centers with louvain, resolution =  0.30000000000000004\n",
      "Epoch  0\n",
      "Epoch  10\n",
      "Epoch  20\n",
      "Epoch  30\n",
      "Epoch  40\n",
      "Epoch  50\n",
      "Epoch  60\n",
      "Epoch  70\n",
      "Epoch  80\n",
      "Epoch  90\n",
      "Epoch  100\n",
      "Epoch  110\n",
      "Epoch  120\n",
      "Epoch  130\n",
      "Epoch  140\n",
      "Epoch  150\n",
      "Epoch  160\n",
      "Epoch  170\n",
      "Epoch  180\n",
      "Epoch  190\n"
     ]
    }
   ],
   "execution_count": 2
  },
  {
   "metadata": {
    "ExecuteTime": {
     "end_time": "2025-08-01T13:28:35.528924Z",
     "start_time": "2025-08-01T13:28:35.501409Z"
    }
   },
   "cell_type": "code",
   "source": [
    "    conf_mat = confusion_matrix(labels, y_pred, labels=np.arange(8))\n",
    "    row_ind, col_ind = linear_sum_assignment(-conf_mat)\n",
    "    mapping = {pred_label: true_label for true_label, pred_label in zip(row_ind, col_ind)}\n",
    "    y_pred = np.array([mapping[p] for p in y_pred])    \n",
    "    pred_labels_list = pd.DataFrame({\n",
    "        'spot': list(range(1, len(y_pred) + 1)),\n",
    "        'pred': y_pred\n",
    "    })\n",
    "    file_path_pred = os.path.join(folder_path, 'pred_labels.csv')\n",
    "    pred_labels_list.to_csv(file_path_pred, index=False) "
   ],
   "id": "122db98ee8e6b919",
   "outputs": [],
   "execution_count": 3
  },
  {
   "metadata": {
    "ExecuteTime": {
     "end_time": "2025-08-01T13:28:41.438740Z",
     "start_time": "2025-08-01T13:28:41.406670Z"
    }
   },
   "cell_type": "code",
   "source": [
    "    ARI_s = adjusted_rand_score(y_pred, labels)\n",
    "    acc_s = accuracy_score(y_pred, labels)\n",
    "    print(\"ARI_s:\", ARI_s)\n",
    "    print(\"acc_s\", acc_s)"
   ],
   "id": "e0674b31fbe1a7f7",
   "outputs": [
    {
     "name": "stdout",
     "output_type": "stream",
     "text": [
      "ARI_s: 0.216688343380537\n",
      "acc_s 0.4783156379341371\n"
     ]
    }
   ],
   "execution_count": 4
  }
 ],
 "metadata": {
  "kernelspec": {
   "display_name": "Python 3",
   "language": "python",
   "name": "python3"
  },
  "language_info": {
   "codemirror_mode": {
    "name": "ipython",
    "version": 2
   },
   "file_extension": ".py",
   "mimetype": "text/x-python",
   "name": "python",
   "nbconvert_exporter": "python",
   "pygments_lexer": "ipython2",
   "version": "2.7.6"
  }
 },
 "nbformat": 4,
 "nbformat_minor": 5
}
