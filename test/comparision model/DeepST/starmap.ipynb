{
 "cells": [
  {
   "cell_type": "code",
   "id": "initial_id",
   "metadata": {
    "collapsed": true,
    "ExecuteTime": {
     "end_time": "2025-06-08T07:54:58.087978Z",
     "start_time": "2025-06-08T07:54:54.821490Z"
    }
   },
   "source": [
    "import os \n",
    "from deepst.DeepST import run\n",
    "import matplotlib.pyplot as plt\n",
    "from pathlib import Path\n",
    "import scanpy as sc\n",
    "import warnings\n",
    "import torch\n",
    "from sklearn.metrics import confusion_matrix\n",
    "from scipy.optimize import linear_sum_assignment\n",
    "import numpy as np\n",
    "from sklearn.decomposition import PCA  # sklearn PCA is used because PCA in scanpy is not stable.\n",
    "from sklearn.metrics import adjusted_rand_score\n",
    "from sklearn.metrics import accuracy_score\n",
    "warnings.filterwarnings(\"ignore\")\n",
    "import pandas as pd\n",
    "from anndata import AnnData\n",
    "from sklearn import metrics\n",
    "import matplotlib.lines as mlines"
   ],
   "outputs": [],
   "execution_count": 1
  },
  {
   "metadata": {
    "ExecuteTime": {
     "end_time": "2025-06-08T07:54:58.924190Z",
     "start_time": "2025-06-08T07:54:58.887327Z"
    }
   },
   "cell_type": "code",
   "source": [
    "device = torch.device('cuda:0' if torch.cuda.is_available() else 'cpu')\n",
    "slicename = 'BZ14'\n",
    "n_domains = 4"
   ],
   "id": "c27d9181bbf97e52",
   "outputs": [],
   "execution_count": 2
  },
  {
   "metadata": {
    "ExecuteTime": {
     "end_time": "2025-06-08T07:55:04.276906Z",
     "start_time": "2025-06-08T07:55:04.263020Z"
    }
   },
   "cell_type": "code",
   "source": [
    "folder_path = fr'C:\\E\\JSU\\BIO\\file\\STrafer\\params\\starmap\\DeepST\\{slicename}'\n",
    "os.makedirs(folder_path, exist_ok=True)\n",
    "save_path = folder_path"
   ],
   "id": "4b77fc8eb45b2972",
   "outputs": [],
   "execution_count": 3
  },
  {
   "metadata": {
    "ExecuteTime": {
     "end_time": "2025-06-08T07:55:08.006805Z",
     "start_time": "2025-06-08T07:55:07.989355Z"
    }
   },
   "cell_type": "code",
   "source": [
    "deepen = run(save_path = save_path,\n",
    "\ttask = \"Identify_Domain\",\n",
    "\tpre_epochs = 300, \n",
    "\tepochs = 500, \n",
    "\tuse_gpu = True)"
   ],
   "id": "ddde06f9ab488cde",
   "outputs": [],
   "execution_count": 4
  },
  {
   "metadata": {
    "ExecuteTime": {
     "end_time": "2025-06-08T07:55:09.742211Z",
     "start_time": "2025-06-08T07:55:09.668098Z"
    }
   },
   "cell_type": "code",
   "source": [
    "expr_path = fr\"C:\\E\\JSU\\BIO\\file\\STrafer\\params\\starmap\\starmap_expr_{slicename}.csv\"\n",
    "spatial_path = fr\"C:\\E\\JSU\\BIO\\file\\STrafer\\params\\starmap\\starmap_spatial_{slicename}.csv\"\n",
    "meta = pd.read_csv(expr_path, index_col=0)\n",
    "spatial_data = pd.read_csv(spatial_path, index_col=0)\n",
    "data = spatial_data.merge(meta, left_index=True, right_index=True, how='right')\n",
    "# labels = data['z']\n",
    "labels = data['z'].replace(4, 0)\n",
    "\n",
    "adata = AnnData(X=meta.values)\n",
    "adata.obsm['spatial'] = spatial_data[['x', 'y']].values\n",
    "adata.var_names = meta.columns\n",
    "adata.obs_names = spatial_data.index\n",
    "adata.write_h5ad(fr\"C:\\E\\JSU\\BIO\\file\\STrafer\\params\\starmap\\starmap_{slicename}.h5ad\")\n",
    "adata = sc.read_h5ad(fr\"C:\\E\\JSU\\BIO\\file\\STrafer\\params\\starmap\\starmap_{slicename}.h5ad\")\n",
    "adata = adata[data.index]\n",
    "adata.var_names_make_unique()\n",
    "# pre-process\n",
    "# adata.layers['count'] = adata.X.toarray()\n",
    "adata.layers['count'] = adata.X\n",
    "sc.pp.filter_genes(adata, min_cells=50)\n",
    "sc.pp.filter_genes(adata, min_counts=10)\n",
    "sc.pp.normalize_total(adata, target_sum=1e6)\n",
    "sc.pp.highly_variable_genes(adata, flavor=\"seurat_v3\", layer='count', n_top_genes=140)\n",
    "adata = adata[:, adata.var['highly_variable'] == True]\n",
    "sc.pp.scale(adata)"
   ],
   "id": "e18df1ebbbc3b091",
   "outputs": [],
   "execution_count": 5
  },
  {
   "metadata": {
    "ExecuteTime": {
     "end_time": "2025-06-08T07:55:15.708153Z",
     "start_time": "2025-06-08T07:55:15.613816Z"
    }
   },
   "cell_type": "code",
   "source": [
    "adata.obs['layer_guess'] = labels\n",
    "\n",
    "from sklearn.decomposition import PCA  # sklearn PCA is used because PCA in scanpy is not stable.\n",
    "adata_X = PCA(n_components=140, random_state=42).fit_transform(adata.X)\n",
    "adata.obsm['X_pca'] = adata_X"
   ],
   "id": "2630c8c6e3e7cec2",
   "outputs": [],
   "execution_count": 6
  },
  {
   "metadata": {
    "ExecuteTime": {
     "end_time": "2025-06-08T07:55:18.123755Z",
     "start_time": "2025-06-08T07:55:18.119756Z"
    }
   },
   "cell_type": "code",
   "source": [
    "data = adata.obsm['X_pca']\n",
    "adata.obsm[\"image_feat_pca\"] =data"
   ],
   "id": "f0cfdcc412659239",
   "outputs": [],
   "execution_count": 7
  },
  {
   "metadata": {
    "ExecuteTime": {
     "end_time": "2025-06-08T07:55:18.681345Z",
     "start_time": "2025-06-08T07:55:18.674344Z"
    }
   },
   "cell_type": "code",
   "source": [
    "adata.obs[\"imagerow\"] = spatial_data['x']\n",
    "adata.obs[\"imagecol\"] = spatial_data['y']\n",
    "adata.obs[\"array_row\"] = spatial_data['x']\n",
    "adata.obs[\"array_col\"] = spatial_data['y']"
   ],
   "id": "a0e0d7b23cf2364d",
   "outputs": [],
   "execution_count": 8
  },
  {
   "metadata": {
    "ExecuteTime": {
     "end_time": "2025-06-08T07:55:19.709755Z",
     "start_time": "2025-06-08T07:55:19.529447Z"
    }
   },
   "cell_type": "code",
   "source": [
    "adata = deepen._get_augment(adata, spatial_type=\"LinearRegress\", use_morphological=True)\n",
    "graph_dict = deepen._get_graph(adata.obsm[\"spatial\"], distType = \"BallTree\")"
   ],
   "id": "d744f19d8c288d4",
   "outputs": [
    {
     "name": "stdout",
     "output_type": "stream",
     "text": [
      "Physical distance calculting Done!\n",
      "The number of nearest tie neighbors in physical distance is: 1.0\n",
      "Gene correlation calculting Done!\n",
      "Morphological similarity calculting Done!\n",
      "The weight result of image feature is added to adata.obsm['weights_matrix_all'] !\n"
     ]
    },
    {
     "name": "stderr",
     "output_type": "stream",
     "text": [
      "Find adjacent spots of each spot: 100%|██████████ [ time left: 00:00 ]"
     ]
    },
    {
     "name": "stdout",
     "output_type": "stream",
     "text": [
      "Step 1: Augment molecule expression is Done!\n",
      "12.0000 neighbors per cell on average.\n",
      "Step 2: Graph computing is Done!\n"
     ]
    },
    {
     "name": "stderr",
     "output_type": "stream",
     "text": [
      "\n"
     ]
    }
   ],
   "execution_count": 9
  },
  {
   "metadata": {
    "ExecuteTime": {
     "end_time": "2025-06-08T07:55:43.735857Z",
     "start_time": "2025-06-08T07:55:22.135114Z"
    }
   },
   "cell_type": "code",
   "source": [
    "deepst_embed = deepen._fit(\n",
    "\t\tdata = data,\n",
    "\t\tgraph_dict = graph_dict,)\n",
    "adata.obsm[\"DeepST_embed\"] = deepst_embed\n",
    "adata = deepen._get_cluster_data(adata, n_domains=n_domains, priori = True)"
   ],
   "id": "9c81a8b8fcb4a1f1",
   "outputs": [
    {
     "name": "stdout",
     "output_type": "stream",
     "text": [
      "Your task is in full swing, please wait\n"
     ]
    },
    {
     "name": "stderr",
     "output_type": "stream",
     "text": [
      "DeepST trains an initial model: 100%|██████████ [ time left: 00:00 ]\n",
      "DeepST trains a final model: |           [ time left: 00:00 ]    \n"
     ]
    },
    {
     "name": "stdout",
     "output_type": "stream",
     "text": [
      "Step 3: DeepST training has been Done!\n",
      "Current memory usage：1.3659 GB\n",
      "Total time: 0.24 minutes\n",
      "Your task has been completed, thank you\n",
      "Of course, you can also perform downstream analysis on the processed data\n",
      "Best resolution:  0.13\n"
     ]
    }
   ],
   "execution_count": 10
  },
  {
   "metadata": {
    "ExecuteTime": {
     "end_time": "2025-06-08T07:58:10.291914Z",
     "start_time": "2025-06-08T07:58:10.277814Z"
    }
   },
   "cell_type": "code",
   "source": "pred = adata.obs['DeepST_refine_domain'].values.astype(int)",
   "id": "1781e6062755e5cf",
   "outputs": [],
   "execution_count": 13
  },
  {
   "metadata": {
    "ExecuteTime": {
     "end_time": "2025-06-08T07:58:10.616814Z",
     "start_time": "2025-06-08T07:58:10.603660Z"
    }
   },
   "cell_type": "code",
   "source": [
    "conf_mat = confusion_matrix(labels, pred, labels=np.arange(4))\n",
    "row_ind, col_ind = linear_sum_assignment(-conf_mat)\n",
    "mapping = {pred_label: true_label for true_label, pred_label in zip(row_ind, col_ind)}\n",
    "pred = np.array([mapping[p] for p in pred])\n",
    "adata.obs[\"pred\"]= pred"
   ],
   "id": "b3930f4e24573c18",
   "outputs": [],
   "execution_count": 14
  },
  {
   "metadata": {
    "ExecuteTime": {
     "end_time": "2025-06-08T07:58:11.222147Z",
     "start_time": "2025-06-08T07:58:11.215147Z"
    }
   },
   "cell_type": "code",
   "source": [
    "ARI_s = adjusted_rand_score(pred, labels)\n",
    "acc_s = accuracy_score(pred, labels)\n",
    "print(\"ARI_s:\", ARI_s)\n",
    "print(\"acc_s\", acc_s)"
   ],
   "id": "df29667e9148ce1a",
   "outputs": [
    {
     "name": "stdout",
     "output_type": "stream",
     "text": [
      "ARI_s: 0.2948471553573723\n",
      "acc_s 0.6268382352941176\n"
     ]
    }
   ],
   "execution_count": 15
  }
 ],
 "metadata": {
  "kernelspec": {
   "display_name": "Python 3",
   "language": "python",
   "name": "python3"
  },
  "language_info": {
   "codemirror_mode": {
    "name": "ipython",
    "version": 2
   },
   "file_extension": ".py",
   "mimetype": "text/x-python",
   "name": "python",
   "nbconvert_exporter": "python",
   "pygments_lexer": "ipython2",
   "version": "2.7.6"
  }
 },
 "nbformat": 4,
 "nbformat_minor": 5
}
