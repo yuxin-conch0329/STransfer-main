{
 "cells": [
  {
   "metadata": {
    "ExecuteTime": {
     "end_time": "2025-06-09T01:16:25.588916Z",
     "start_time": "2025-06-09T01:16:22.319046Z"
    }
   },
   "cell_type": "code",
   "source": [
    "import os\n",
    "from deepst.DeepST import run\n",
    "import matplotlib.pyplot as plt\n",
    "from pathlib import Path\n",
    "import scanpy as sc\n",
    "import torch\n",
    "from sklearn.metrics import adjusted_rand_score\n",
    "from sklearn.metrics import accuracy_score\n",
    "import numpy as np\n",
    "import warnings\n",
    "from sklearn.metrics import confusion_matrix\n",
    "from scipy.optimize import linear_sum_assignment\n",
    "warnings.filterwarnings(\"ignore\")\n",
    "import pandas as pd\n",
    "from sklearn import metrics\n",
    "import matplotlib.lines as mlines"
   ],
   "id": "8d5b69e4361cdeec",
   "outputs": [],
   "execution_count": 1
  },
  {
   "metadata": {
    "ExecuteTime": {
     "end_time": "2025-06-09T01:16:25.604578Z",
     "start_time": "2025-06-09T01:16:25.588916Z"
    }
   },
   "cell_type": "code",
   "source": [
    "data_path = r\"C:\\E\\JSU\\BIO\\file\\SpaGCN-master\\SpaGCN-master\\tutorial\"  #### to your path\n",
    "data_name = '151676'  #### project name\n",
    "slicename = '151676'\n",
    "save_path = fr\"C:\\E\\JSU\\BIO\\file\\THItoGene-main\\mymodel\\result\\DLPFC\\basicmodel\\DeepST\"  #### save path\n",
    "n_domains = 7 ###### the number of spatial domains.\n",
    "deepen = run(save_path=save_path,\n",
    "\t\t\t task=\"Identify_Domain\",\n",
    "\t\t\t #### DeepST includes two tasks, one is \"Identify_Domain\" and the other is \"Integration\"\n",
    "\t\t\t pre_epochs=300,  ####  choose the number of training\n",
    "\t\t\t epochs=500,  #### choose the number of training\n",
    "\t\t\t use_gpu=True)"
   ],
   "id": "1efa747edba91cff",
   "outputs": [],
   "execution_count": 2
  },
  {
   "metadata": {
    "ExecuteTime": {
     "end_time": "2025-06-09T01:16:25.715464Z",
     "start_time": "2025-06-09T01:16:25.604578Z"
    }
   },
   "cell_type": "code",
   "source": [
    "spatial_data = pd.read_csv(fr\"C:\\E\\JSU\\BIO\\file\\SpaGCN-master\\SpaGCN-master\\tutorial\\{slicename}\\spatial\\tissue_positions_list.csv\", sep=\",\", header=None)\n",
    "spatial_data.columns = ['barcode', 'in_tissue', 'row', 'col', 'pxl_row_in_fullres', 'pxl_col_in_fullres']\n",
    "spatial_data = spatial_data[spatial_data['in_tissue'] == 1]  # remain cells within tissue (denoted by 1)\n",
    "meta = pd.read_csv(fr\"C:\\E\\JSU\\BIO\\file\\SpaGCN-master\\SpaGCN-master\\tutorial\\{slicename}\\metadata.tsv\", sep=\"\\t\",index_col=False)\n",
    "meta.drop(columns=['row', 'col'], inplace=True)  # delete repeated columns\n",
    "\n",
    "data_ = spatial_data.merge(meta, on='barcode', how='right')\n",
    "data_ = data_[['barcode', 'row', 'col', 'pxl_row_in_fullres', 'pxl_col_in_fullres', 'expr_chrM']]\n",
    "data_ = data_.dropna(subset=['expr_chrM'])  # delete missing data\n",
    "# labels\n",
    "label_mapping = {'L1': 1, 'L2': 2, 'L3': 3, 'L4': 4, 'L5': 5, 'L6': 6, 'WM': 0} # DLPFC\n",
    "labels = data_['expr_chrM'].map(label_mapping)\n",
    "device = 'cuda:0' if torch.cuda.is_available() else 'cpu'\n",
    "labels = torch.LongTensor(labels).to(device)"
   ],
   "id": "534bc18a0954a1d1",
   "outputs": [],
   "execution_count": 3
  },
  {
   "metadata": {
    "ExecuteTime": {
     "end_time": "2025-06-09T01:17:28.300848Z",
     "start_time": "2025-06-09T01:16:25.717310Z"
    }
   },
   "cell_type": "code",
   "source": [
    "\n",
    "data_path = r\"C:\\E\\JSU\\BIO\\file\\SpaGCN-master\\SpaGCN-master\\tutorial\"\n",
    "###### Read in 10x Visium data, or user can read in themselves.\n",
    "adata = deepen._get_adata(platform=\"Visium\", data_path=data_path, data_name=data_name)\n",
    "###### Segment the Morphological Image\n",
    "adata = deepen._get_image_crop(adata, data_name=data_name)"
   ],
   "id": "b39cc17f39e00048",
   "outputs": [
    {
     "name": "stderr",
     "output_type": "stream",
     "text": [
      "Tiling image: 100%|██████████ [ time left: 00:00 ]\n",
      "Extract image feature: 100%|██████████ [ time left: 00:00 ]\n"
     ]
    }
   ],
   "execution_count": 4
  },
  {
   "metadata": {
    "ExecuteTime": {
     "end_time": "2025-06-09T01:17:34.056930Z",
     "start_time": "2025-06-09T01:17:28.300848Z"
    }
   },
   "cell_type": "code",
   "source": "adata = deepen._get_augment(adata, spatial_type=\"LinearRegress\", use_morphological=True)",
   "id": "aaffcf0cb9558984",
   "outputs": [
    {
     "name": "stdout",
     "output_type": "stream",
     "text": [
      "Physical distance calculting Done!\n",
      "The number of nearest tie neighbors in physical distance is: 31.839306358381503\n",
      "Gene correlation calculting Done!\n",
      "Morphological similarity calculting Done!\n",
      "The weight result of image feature is added to adata.obsm['weights_matrix_all'] !\n"
     ]
    },
    {
     "name": "stderr",
     "output_type": "stream",
     "text": [
      "Find adjacent spots of each spot: 100%|██████████ [ time left: 00:00 ]\n"
     ]
    },
    {
     "name": "stdout",
     "output_type": "stream",
     "text": [
      "Step 1: Augment molecule expression is Done!\n"
     ]
    }
   ],
   "execution_count": 5
  },
  {
   "metadata": {
    "ExecuteTime": {
     "end_time": "2025-06-09T01:18:05.726334Z",
     "start_time": "2025-06-09T01:18:05.718573Z"
    }
   },
   "cell_type": "code",
   "source": [
    "adata.obs[\"imagerow\"] = spatial_data['pxl_row_in_fullres']\n",
    "adata.obs[\"imagecol\"] = spatial_data['pxl_col_in_fullres']\n",
    "adata.obs[\"array_row\"] = spatial_data['row']\n",
    "adata.obs[\"array_col\"] = spatial_data['col']\n"
   ],
   "id": "3da35f79662b1879",
   "outputs": [],
   "execution_count": 6
  },
  {
   "metadata": {
    "ExecuteTime": {
     "end_time": "2025-06-09T01:18:07.104096Z",
     "start_time": "2025-06-09T01:18:07.084900Z"
    }
   },
   "cell_type": "code",
   "source": "adata = adata[data_.index]",
   "id": "ac5879bcc49be654",
   "outputs": [],
   "execution_count": 7
  },
  {
   "metadata": {
    "ExecuteTime": {
     "end_time": "2025-06-09T01:18:43.312226Z",
     "start_time": "2025-06-09T01:18:07.765186Z"
    }
   },
   "cell_type": "code",
   "source": [
    "###### Build graphs. \"distType\" includes \"KDTree\", \"BallTree\", \"kneighbors_graph\", \"Radius\", etc., see adj.py\n",
    "graph_dict = deepen._get_graph(adata.obsm[\"spatial\"], distType=\"BallTree\")\n",
    "\n",
    "###### Enhanced data preprocessing\n",
    "data = deepen._data_process(adata, pca_n_comps=200)"
   ],
   "id": "17bbc7513fcff55a",
   "outputs": [
    {
     "name": "stdout",
     "output_type": "stream",
     "text": [
      "12.0000 neighbors per cell on average.\n",
      "Step 2: Graph computing is Done!\n"
     ]
    }
   ],
   "execution_count": 8
  },
  {
   "metadata": {
    "ExecuteTime": {
     "end_time": "2025-06-09T01:19:26.150860Z",
     "start_time": "2025-06-09T01:18:44.136688Z"
    }
   },
   "cell_type": "code",
   "source": [
    "deepst_embed = deepen._fit(\n",
    "\t\tdata = data,\n",
    "\t\tgraph_dict = graph_dict,)\n",
    "adata.obsm[\"DeepST_embed\"] = deepst_embed\n",
    "adata = deepen._get_cluster_data(adata, n_domains=n_domains, priori = True)"
   ],
   "id": "d3df9c85ddb2008f",
   "outputs": [
    {
     "name": "stdout",
     "output_type": "stream",
     "text": [
      "Your task is in full swing, please wait\n"
     ]
    },
    {
     "name": "stderr",
     "output_type": "stream",
     "text": [
      "DeepST trains an initial model: 100%|██████████ [ time left: 00:00 ]\n",
      "DeepST trains a final model: |           [ time left: 00:00 ]    \n"
     ]
    },
    {
     "name": "stdout",
     "output_type": "stream",
     "text": [
      "Step 3: DeepST training has been Done!\n",
      "Current memory usage：4.2891 GB\n",
      "Total time: 0.32 minutes\n",
      "Your task has been completed, thank you\n",
      "Of course, you can also perform downstream analysis on the processed data\n",
      "Best resolution:  0.6799999999999997\n"
     ]
    }
   ],
   "execution_count": 9
  },
  {
   "metadata": {
    "ExecuteTime": {
     "end_time": "2025-06-09T01:19:27.650414Z",
     "start_time": "2025-06-09T01:19:27.635221Z"
    }
   },
   "cell_type": "code",
   "source": "adata.obs['ground_truth'] = labels.values",
   "id": "b6a257ee4ff832b8",
   "outputs": [],
   "execution_count": 10
  },
  {
   "metadata": {
    "ExecuteTime": {
     "end_time": "2025-06-09T01:19:28.791765Z",
     "start_time": "2025-06-09T01:19:28.777971Z"
    }
   },
   "cell_type": "code",
   "source": "pred = adata.obs['DeepST_refine_domain'].values.astype(int)",
   "id": "8315d04a4b1ab0a5",
   "outputs": [],
   "execution_count": 11
  },
  {
   "metadata": {
    "ExecuteTime": {
     "end_time": "2025-06-09T01:20:10.874130Z",
     "start_time": "2025-06-09T01:20:10.844288Z"
    }
   },
   "cell_type": "code",
   "source": [
    "conf_mat = confusion_matrix(labels.cpu(), pred, labels=np.arange(7))\n",
    "row_ind, col_ind = linear_sum_assignment(-conf_mat)\n",
    "mapping = {pred_label: true_label for true_label, pred_label in zip(row_ind, col_ind)}\n",
    "pred = np.array([mapping[p] for p in pred])\n",
    "adata.obs[\"pred\"] = pred\n",
    "ARI_s = adjusted_rand_score(pred, labels.cpu())\n",
    "acc_s = accuracy_score(pred, labels.cpu())\n",
    "print(\"ARI_s:\", ARI_s)\n",
    "print(\"acc_s\", acc_s)"
   ],
   "id": "718327364c57ead0",
   "outputs": [
    {
     "name": "stdout",
     "output_type": "stream",
     "text": [
      "ARI_s: 0.48072948136019245\n",
      "acc_s 0.6006995045176333\n"
     ]
    }
   ],
   "execution_count": 15
  }
 ],
 "metadata": {
  "kernelspec": {
   "display_name": "Python 3",
   "language": "python",
   "name": "python3"
  },
  "language_info": {
   "codemirror_mode": {
    "name": "ipython",
    "version": 2
   },
   "file_extension": ".py",
   "mimetype": "text/x-python",
   "name": "python",
   "nbconvert_exporter": "python",
   "pygments_lexer": "ipython2",
   "version": "2.7.6"
  }
 },
 "nbformat": 4,
 "nbformat_minor": 5
}
