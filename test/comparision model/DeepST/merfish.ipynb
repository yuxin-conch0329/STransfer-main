{
 "cells": [
  {
   "cell_type": "code",
   "id": "initial_id",
   "metadata": {
    "collapsed": true,
    "ExecuteTime": {
     "end_time": "2025-06-08T07:04:25.674115Z",
     "start_time": "2025-06-08T07:04:02.772885Z"
    }
   },
   "source": [
    "import os \n",
    "from deepst.DeepST import run\n",
    "import matplotlib.pyplot as plt\n",
    "from pathlib import Path\n",
    "import scanpy as sc\n",
    "import warnings\n",
    "import torch\n",
    "from sklearn.metrics import confusion_matrix\n",
    "from scipy.optimize import linear_sum_assignment\n",
    "import numpy as np\n",
    "from sklearn.decomposition import PCA  # sklearn PCA is used because PCA in scanpy is not stable.\n",
    "from sklearn.metrics import adjusted_rand_score\n",
    "from sklearn.metrics import accuracy_score\n",
    "warnings.filterwarnings(\"ignore\")\n",
    "import pandas as pd\n",
    "from anndata import AnnData\n",
    "from sklearn import metrics\n",
    "import matplotlib.lines as mlines"
   ],
   "outputs": [],
   "execution_count": 1
  },
  {
   "metadata": {
    "ExecuteTime": {
     "end_time": "2025-06-08T07:04:32.400085Z",
     "start_time": "2025-06-08T07:04:32.341576Z"
    }
   },
   "cell_type": "code",
   "source": [
    "slicename = '29'\n",
    "n_domains = 8\n",
    "device = 'cuda:0' if torch.cuda.is_available() else 'cpu'"
   ],
   "id": "f9a31fe504506a50",
   "outputs": [],
   "execution_count": 2
  },
  {
   "metadata": {
    "ExecuteTime": {
     "end_time": "2025-06-08T07:04:33.736109Z",
     "start_time": "2025-06-08T07:04:33.719355Z"
    }
   },
   "cell_type": "code",
   "source": [
    "folder_path = fr'C:\\E\\JSU\\BIO\\file\\STrafer\\params\\merfish\\DeepST\\{slicename}'\n",
    "os.makedirs(folder_path, exist_ok=True)\n",
    "save_path = folder_path"
   ],
   "id": "a92b25ff294316ff",
   "outputs": [],
   "execution_count": 3
  },
  {
   "metadata": {
    "ExecuteTime": {
     "end_time": "2025-06-08T07:04:34.326413Z",
     "start_time": "2025-06-08T07:04:34.321413Z"
    }
   },
   "cell_type": "code",
   "source": [
    "deepen = run(save_path = save_path,\n",
    "\ttask = \"Identify_Domain\",\n",
    "\tpre_epochs = 300, \n",
    "\tepochs = 500, \n",
    "\tuse_gpu = True)"
   ],
   "id": "8c5cabe8b0ff151b",
   "outputs": [],
   "execution_count": 4
  },
  {
   "metadata": {
    "ExecuteTime": {
     "end_time": "2025-06-08T07:04:37.556268Z",
     "start_time": "2025-06-08T07:04:35.092653Z"
    }
   },
   "cell_type": "code",
   "source": [
    "adata = sc.read_h5ad(fr\"C:\\E\\JSU\\BIO\\file\\STrafer\\params\\merfish\\{slicename}.h5ad\")\n",
    "adata.obs[\"imagerow\"] = adata.obsm['spatial'][:, 0]\n",
    "adata.obs[\"imagecol\"] = adata.obsm['spatial'][:, 1]\n",
    "adata.obs[\"array_row\"] = adata.obsm['spatial'][:, 0]\n",
    "adata.obs[\"array_col\"] = adata.obsm['spatial'][:, 1]\n",
    "\n",
    "\n",
    "label_mapping = {'MPA': 1, 'MPN': 2, 'BST': 3, 'fx': 4, \"PVH\": 5, \"PVT\": 6, \"V3\": 7, 'PV': 0}\n",
    "labels = adata.obs['ground_truth'].map(label_mapping)\n",
    "\n",
    "adata.var_names_make_unique()\n",
    "# pre-process\n",
    "\n",
    "adata.layers['count'] = adata.X\n",
    "sc.pp.filter_genes(adata, min_cells=50)\n",
    "sc.pp.filter_genes(adata, min_counts=10)\n",
    "sc.pp.normalize_total(adata, target_sum=1e6)\n",
    "sc.pp.highly_variable_genes(adata, flavor=\"seurat_v3\", layer='count', n_top_genes=150)\n",
    "\n",
    "\n",
    "adata_X = PCA(n_components=150, random_state=42).fit_transform(adata.X)\n",
    "adata.obsm['X_pca'] = adata_X\n",
    "data = adata.obsm['X_pca']\n",
    "\n",
    "\n",
    "adata.obsm[\"image_feat_pca\"] =data\n",
    "\n",
    "\n",
    "adata = adata[:, adata.var['highly_variable'] == True]\n",
    "sc.pp.scale(adata)\n",
    "adata.obs['layer_guess'] = labels\n",
    "adata = deepen._get_augment(adata, spatial_type=\"LinearRegress\", use_morphological=True)\n",
    "graph_dict = deepen._get_graph(adata.obsm[\"spatial\"], distType = \"BallTree\")"
   ],
   "id": "4bd2092f8df2216a",
   "outputs": [
    {
     "name": "stdout",
     "output_type": "stream",
     "text": [
      "Physical distance calculting Done!\n",
      "The number of nearest tie neighbors in physical distance is: 1.0032473389861085\n",
      "Gene correlation calculting Done!\n",
      "Morphological similarity calculting Done!\n",
      "The weight result of image feature is added to adata.obsm['weights_matrix_all'] !\n"
     ]
    },
    {
     "name": "stderr",
     "output_type": "stream",
     "text": [
      "Find adjacent spots of each spot: 100%|██████████ [ time left: 00:00 ]\n"
     ]
    },
    {
     "name": "stdout",
     "output_type": "stream",
     "text": [
      "Step 1: Augment molecule expression is Done!\n",
      "12.0000 neighbors per cell on average.\n",
      "Step 2: Graph computing is Done!\n"
     ]
    }
   ],
   "execution_count": 5
  },
  {
   "metadata": {
    "ExecuteTime": {
     "end_time": "2025-06-08T07:06:13.184464Z",
     "start_time": "2025-06-08T07:04:41.573947Z"
    }
   },
   "cell_type": "code",
   "source": [
    "deepst_embed = deepen._fit(\n",
    "\t\tdata = data,\n",
    "\t\tgraph_dict = graph_dict,)\n",
    "adata.obsm[\"DeepST_embed\"] = deepst_embed\n",
    "adata = deepen._get_cluster_data(adata, n_domains=n_domains, priori = True)"
   ],
   "id": "d7794d26949e1653",
   "outputs": [
    {
     "name": "stdout",
     "output_type": "stream",
     "text": [
      "Your task is in full swing, please wait\n"
     ]
    },
    {
     "name": "stderr",
     "output_type": "stream",
     "text": [
      "DeepST trains an initial model: 100%|██████████ [ time left: 00:00 ]\n",
      "DeepST trains a final model: |           [ time left: 00:00 ]    \n"
     ]
    },
    {
     "name": "stdout",
     "output_type": "stream",
     "text": [
      "Step 3: DeepST training has been Done!\n",
      "Current memory usage：1.7210 GB\n",
      "Total time: 0.68 minutes\n",
      "Your task has been completed, thank you\n",
      "Of course, you can also perform downstream analysis on the processed data\n",
      "Best resolution:  0.15999999999999998\n"
     ]
    }
   ],
   "execution_count": 6
  },
  {
   "metadata": {
    "ExecuteTime": {
     "end_time": "2025-06-08T07:07:43.925936Z",
     "start_time": "2025-06-08T07:07:43.908687Z"
    }
   },
   "cell_type": "code",
   "source": [
    "# ARI = metrics.adjusted_rand_score(adata.obs['DeepST_refine_domain'], labels)\n",
    "# adata.uns['ARI'] = ARI\n",
    "pred = adata.obs['DeepST_refine_domain'].values.astype(int)"
   ],
   "id": "a053194613550304",
   "outputs": [],
   "execution_count": 7
  },
  {
   "metadata": {
    "ExecuteTime": {
     "end_time": "2025-06-08T07:07:46.994521Z",
     "start_time": "2025-06-08T07:07:46.973521Z"
    }
   },
   "cell_type": "code",
   "source": [
    "conf_mat = confusion_matrix(labels, pred, labels=np.arange(8))\n",
    "row_ind, col_ind = linear_sum_assignment(-conf_mat)\n",
    "mapping = {pred_label: true_label for true_label, pred_label in zip(row_ind, col_ind)}\n",
    "pred = np.array([mapping[p] for p in pred])\n",
    "adata.obs[\"pred\"]= pred"
   ],
   "id": "5f05501c8e09fccb",
   "outputs": [],
   "execution_count": 8
  },
  {
   "metadata": {
    "ExecuteTime": {
     "end_time": "2025-06-08T07:07:49.463431Z",
     "start_time": "2025-06-08T07:07:49.450925Z"
    }
   },
   "cell_type": "code",
   "source": [
    "ARI_s = adjusted_rand_score(pred, labels)\n",
    "acc_s = accuracy_score(pred, labels)\n",
    "print(\"ARI_s:\", ARI_s)\n",
    "print(\"acc_s\", acc_s)"
   ],
   "id": "d3d9a5513dfefd5e",
   "outputs": [
    {
     "name": "stdout",
     "output_type": "stream",
     "text": [
      "ARI_s: 0.1388359009966879\n",
      "acc_s 0.4171026519935053\n"
     ]
    }
   ],
   "execution_count": 9
  }
 ],
 "metadata": {
  "kernelspec": {
   "display_name": "Python 3",
   "language": "python",
   "name": "python3"
  },
  "language_info": {
   "codemirror_mode": {
    "name": "ipython",
    "version": 2
   },
   "file_extension": ".py",
   "mimetype": "text/x-python",
   "name": "python",
   "nbconvert_exporter": "python",
   "pygments_lexer": "ipython2",
   "version": "2.7.6"
  }
 },
 "nbformat": 4,
 "nbformat_minor": 5
}
