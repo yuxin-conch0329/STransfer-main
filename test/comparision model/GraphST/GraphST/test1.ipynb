{
 "cells": [
  {
   "cell_type": "code",
   "execution_count": 1,
   "id": "initial_id",
   "metadata": {
    "collapsed": true,
    "ExecuteTime": {
     "end_time": "2024-08-02T08:55:38.736773800Z",
     "start_time": "2024-08-02T08:55:38.698188Z"
    }
   },
   "outputs": [
    {
     "name": "stdout",
     "output_type": "stream",
     "text": [
      "当前工作路径： E:\\JSU\\BIO\\file\\GraphST-main\\GraphST-main\\GraphST\n"
     ]
    }
   ],
   "source": [
    "import os\n",
    "\n",
    "# 获取当前工作路径\n",
    "current_dir = os.getcwd()\n",
    "print(\"当前工作路径：\", current_dir)\n",
    "# 指定新的工作目录路径\n",
    "# new_working_directory = r\"C:\\Users\\REBECCA329\\Desktop\\BIO\\file\\Data\\Data\\1.DLPFC\\151672\\pythonProject2\\GraphST-main\"\n",
    "# \n",
    "# # 更改工作目录\n",
    "# os.chdir(new_working_directory)\n",
    "# \n",
    "# # 确认工作目录已更改\n",
    "# print(\"当前工作目录:\", os.getcwd())\n"
   ]
  },
  {
   "cell_type": "code",
   "outputs": [
    {
     "ename": "ModuleNotFoundError",
     "evalue": "No module named 'ot'",
     "output_type": "error",
     "traceback": [
      "\u001B[1;31m---------------------------------------------------------------------------\u001B[0m",
      "\u001B[1;31mModuleNotFoundError\u001B[0m                       Traceback (most recent call last)",
      "\u001B[1;32m~\\AppData\\Local\\Temp\\ipykernel_16920\\4099422174.py\u001B[0m in \u001B[0;36m<module>\u001B[1;34m\u001B[0m\n\u001B[0;32m      5\u001B[0m \u001B[1;32mfrom\u001B[0m \u001B[0msklearn\u001B[0m \u001B[1;32mimport\u001B[0m \u001B[0mmetrics\u001B[0m\u001B[1;33m\u001B[0m\u001B[1;33m\u001B[0m\u001B[0m\n\u001B[0;32m      6\u001B[0m \u001B[1;32mimport\u001B[0m \u001B[0mmultiprocessing\u001B[0m \u001B[1;32mas\u001B[0m \u001B[0mmp\u001B[0m\u001B[1;33m\u001B[0m\u001B[1;33m\u001B[0m\u001B[0m\n\u001B[1;32m----> 7\u001B[1;33m \u001B[1;32mfrom\u001B[0m \u001B[0mGraphST\u001B[0m \u001B[1;32mimport\u001B[0m \u001B[0mGraphST\u001B[0m  \u001B[1;31m#从模块导入类\u001B[0m\u001B[1;33m\u001B[0m\u001B[1;33m\u001B[0m\u001B[0m\n\u001B[0m\u001B[0;32m      8\u001B[0m \u001B[1;33m\u001B[0m\u001B[0m\n\u001B[0;32m      9\u001B[0m \u001B[1;33m\u001B[0m\u001B[0m\n",
      "\u001B[1;32mE:\\JSU\\BIO\\file\\GraphST-main\\GraphST-main\\GraphST\\GraphST.py\u001B[0m in \u001B[0;36m<module>\u001B[1;34m\u001B[0m\n\u001B[0;32m      1\u001B[0m \u001B[1;32mimport\u001B[0m \u001B[0mtorch\u001B[0m\u001B[1;33m\u001B[0m\u001B[1;33m\u001B[0m\u001B[0m\n\u001B[1;32m----> 2\u001B[1;33m \u001B[1;32mfrom\u001B[0m \u001B[0mpreprocess\u001B[0m \u001B[1;32mimport\u001B[0m \u001B[0mpreprocess_adj\u001B[0m\u001B[1;33m,\u001B[0m \u001B[0mpreprocess_adj_sparse\u001B[0m\u001B[1;33m,\u001B[0m \u001B[0mpreprocess\u001B[0m\u001B[1;33m,\u001B[0m \u001B[0mconstruct_interaction\u001B[0m\u001B[1;33m,\u001B[0m \u001B[0mconstruct_interaction_KNN\u001B[0m\u001B[1;33m,\u001B[0m \u001B[0madd_contrastive_label\u001B[0m\u001B[1;33m,\u001B[0m \u001B[0mget_feature\u001B[0m\u001B[1;33m,\u001B[0m \u001B[0mpermutation\u001B[0m\u001B[1;33m,\u001B[0m \u001B[0mfix_seed\u001B[0m\u001B[1;33m\u001B[0m\u001B[1;33m\u001B[0m\u001B[0m\n\u001B[0m\u001B[0;32m      3\u001B[0m \u001B[1;32mimport\u001B[0m \u001B[0mtime\u001B[0m\u001B[1;33m\u001B[0m\u001B[1;33m\u001B[0m\u001B[0m\n\u001B[0;32m      4\u001B[0m \u001B[1;32mimport\u001B[0m \u001B[0mrandom\u001B[0m\u001B[1;33m\u001B[0m\u001B[1;33m\u001B[0m\u001B[0m\n\u001B[0;32m      5\u001B[0m \u001B[1;32mimport\u001B[0m \u001B[0mnumpy\u001B[0m \u001B[1;32mas\u001B[0m \u001B[0mnp\u001B[0m\u001B[1;33m\u001B[0m\u001B[1;33m\u001B[0m\u001B[0m\n",
      "\u001B[1;32mE:\\JSU\\BIO\\file\\GraphST-main\\GraphST-main\\GraphST\\preprocess.py\u001B[0m in \u001B[0;36m<module>\u001B[1;34m\u001B[0m\n\u001B[0;32m      1\u001B[0m \u001B[1;32mimport\u001B[0m \u001B[0mos\u001B[0m\u001B[1;33m\u001B[0m\u001B[1;33m\u001B[0m\u001B[0m\n\u001B[1;32m----> 2\u001B[1;33m \u001B[1;32mimport\u001B[0m \u001B[0mot\u001B[0m\u001B[1;33m\u001B[0m\u001B[1;33m\u001B[0m\u001B[0m\n\u001B[0m\u001B[0;32m      3\u001B[0m \u001B[1;32mimport\u001B[0m \u001B[0mtorch\u001B[0m\u001B[1;33m\u001B[0m\u001B[1;33m\u001B[0m\u001B[0m\n\u001B[0;32m      4\u001B[0m \u001B[1;32mimport\u001B[0m \u001B[0mrandom\u001B[0m\u001B[1;33m\u001B[0m\u001B[1;33m\u001B[0m\u001B[0m\n\u001B[0;32m      5\u001B[0m \u001B[1;32mimport\u001B[0m \u001B[0mnumpy\u001B[0m \u001B[1;32mas\u001B[0m \u001B[0mnp\u001B[0m\u001B[1;33m\u001B[0m\u001B[1;33m\u001B[0m\u001B[0m\n",
      "\u001B[1;31mModuleNotFoundError\u001B[0m: No module named 'ot'"
     ]
    }
   ],
   "source": [
    "import os\n",
    "import torch\n",
    "import pandas as pd\n",
    "import scanpy as sc\n",
    "from sklearn import metrics\n",
    "import multiprocessing as mp\n",
    "from GraphST import GraphST  #从模块导入类\n",
    "\n"
   ],
   "metadata": {
    "collapsed": false,
    "ExecuteTime": {
     "end_time": "2024-08-02T08:55:49.246805800Z",
     "start_time": "2024-08-02T08:55:43.360261400Z"
    }
   },
   "id": "e4abde963f746305",
   "execution_count": 2
  },
  {
   "cell_type": "code",
   "outputs": [
    {
     "name": "stdout",
     "output_type": "stream",
     "text": [
      "cuda:0\n",
      "C:\\Users\\REBECCA329\\Desktop\\BIO\\file\\Data\\Data\\1.DLPFC/151672\n"
     ]
    },
    {
     "ename": "FileNotFoundError",
     "evalue": "[Errno 2] Unable to open file (unable to open file: name = 'C:\\Users\\REBECCA329\\Desktop\\BIO\\file\\Data\\Data\\1.DLPFC\\151672\\filtered_feature_bc_matrix.h5', errno = 2, error message = 'No such file or directory', flags = 0, o_flags = 0)",
     "output_type": "error",
     "traceback": [
      "\u001B[1;31m---------------------------------------------------------------------------\u001B[0m",
      "\u001B[1;31mFileNotFoundError\u001B[0m                         Traceback (most recent call last)",
      "\u001B[1;32m~\\AppData\\Local\\Temp\\ipykernel_16920\\2220888283.py\u001B[0m in \u001B[0;36m<module>\u001B[1;34m\u001B[0m\n\u001B[0;32m     13\u001B[0m     dataset)  #please replace 'file_fold' with the download path\n\u001B[0;32m     14\u001B[0m \u001B[0mprint\u001B[0m\u001B[1;33m(\u001B[0m\u001B[0mfile_fold\u001B[0m\u001B[1;33m)\u001B[0m\u001B[1;33m\u001B[0m\u001B[1;33m\u001B[0m\u001B[0m\n\u001B[1;32m---> 15\u001B[1;33m \u001B[0madata\u001B[0m \u001B[1;33m=\u001B[0m \u001B[0msc\u001B[0m\u001B[1;33m.\u001B[0m\u001B[0mread_visium\u001B[0m\u001B[1;33m(\u001B[0m\u001B[0mfile_fold\u001B[0m\u001B[1;33m,\u001B[0m \u001B[0mcount_file\u001B[0m\u001B[1;33m=\u001B[0m\u001B[1;34m'filtered_feature_bc_matrix.h5'\u001B[0m\u001B[1;33m,\u001B[0m \u001B[0mload_images\u001B[0m\u001B[1;33m=\u001B[0m\u001B[1;32mTrue\u001B[0m\u001B[1;33m)\u001B[0m\u001B[1;33m\u001B[0m\u001B[1;33m\u001B[0m\u001B[0m\n\u001B[0m\u001B[0;32m     16\u001B[0m \u001B[1;33m\u001B[0m\u001B[0m\n\u001B[0;32m     17\u001B[0m \u001B[0madata\u001B[0m\u001B[1;33m.\u001B[0m\u001B[0mvar_names_make_unique\u001B[0m\u001B[1;33m(\u001B[0m\u001B[1;33m)\u001B[0m\u001B[1;33m\u001B[0m\u001B[1;33m\u001B[0m\u001B[0m\n",
      "\u001B[1;32mF:\\anaconda2\\envs\\cuda10.1\\lib\\site-packages\\scanpy\\readwrite.py\u001B[0m in \u001B[0;36mread_visium\u001B[1;34m(path, genome, count_file, library_id, load_images, source_image_path)\u001B[0m\n\u001B[0;32m    358\u001B[0m     \"\"\"\n\u001B[0;32m    359\u001B[0m     \u001B[0mpath\u001B[0m \u001B[1;33m=\u001B[0m \u001B[0mPath\u001B[0m\u001B[1;33m(\u001B[0m\u001B[0mpath\u001B[0m\u001B[1;33m)\u001B[0m\u001B[1;33m\u001B[0m\u001B[1;33m\u001B[0m\u001B[0m\n\u001B[1;32m--> 360\u001B[1;33m     \u001B[0madata\u001B[0m \u001B[1;33m=\u001B[0m \u001B[0mread_10x_h5\u001B[0m\u001B[1;33m(\u001B[0m\u001B[0mpath\u001B[0m \u001B[1;33m/\u001B[0m \u001B[0mcount_file\u001B[0m\u001B[1;33m,\u001B[0m \u001B[0mgenome\u001B[0m\u001B[1;33m=\u001B[0m\u001B[0mgenome\u001B[0m\u001B[1;33m)\u001B[0m\u001B[1;33m\u001B[0m\u001B[1;33m\u001B[0m\u001B[0m\n\u001B[0m\u001B[0;32m    361\u001B[0m \u001B[1;33m\u001B[0m\u001B[0m\n\u001B[0;32m    362\u001B[0m     \u001B[0madata\u001B[0m\u001B[1;33m.\u001B[0m\u001B[0muns\u001B[0m\u001B[1;33m[\u001B[0m\u001B[1;34m\"spatial\"\u001B[0m\u001B[1;33m]\u001B[0m \u001B[1;33m=\u001B[0m \u001B[0mdict\u001B[0m\u001B[1;33m(\u001B[0m\u001B[1;33m)\u001B[0m\u001B[1;33m\u001B[0m\u001B[1;33m\u001B[0m\u001B[0m\n",
      "\u001B[1;32mF:\\anaconda2\\envs\\cuda10.1\\lib\\site-packages\\scanpy\\readwrite.py\u001B[0m in \u001B[0;36mread_10x_h5\u001B[1;34m(filename, genome, gex_only, backup_url)\u001B[0m\n\u001B[0;32m    178\u001B[0m     \u001B[1;32mif\u001B[0m \u001B[1;32mnot\u001B[0m \u001B[0mis_present\u001B[0m\u001B[1;33m:\u001B[0m\u001B[1;33m\u001B[0m\u001B[1;33m\u001B[0m\u001B[0m\n\u001B[0;32m    179\u001B[0m         \u001B[0mlogg\u001B[0m\u001B[1;33m.\u001B[0m\u001B[0mdebug\u001B[0m\u001B[1;33m(\u001B[0m\u001B[1;34mf'... did not find original file {filename}'\u001B[0m\u001B[1;33m)\u001B[0m\u001B[1;33m\u001B[0m\u001B[1;33m\u001B[0m\u001B[0m\n\u001B[1;32m--> 180\u001B[1;33m     \u001B[1;32mwith\u001B[0m \u001B[0mh5py\u001B[0m\u001B[1;33m.\u001B[0m\u001B[0mFile\u001B[0m\u001B[1;33m(\u001B[0m\u001B[0mstr\u001B[0m\u001B[1;33m(\u001B[0m\u001B[0mfilename\u001B[0m\u001B[1;33m)\u001B[0m\u001B[1;33m,\u001B[0m \u001B[1;34m'r'\u001B[0m\u001B[1;33m)\u001B[0m \u001B[1;32mas\u001B[0m \u001B[0mf\u001B[0m\u001B[1;33m:\u001B[0m\u001B[1;33m\u001B[0m\u001B[1;33m\u001B[0m\u001B[0m\n\u001B[0m\u001B[0;32m    181\u001B[0m         \u001B[0mv3\u001B[0m \u001B[1;33m=\u001B[0m \u001B[1;34m'/matrix'\u001B[0m \u001B[1;32min\u001B[0m \u001B[0mf\u001B[0m\u001B[1;33m\u001B[0m\u001B[1;33m\u001B[0m\u001B[0m\n\u001B[0;32m    182\u001B[0m     \u001B[1;32mif\u001B[0m \u001B[0mv3\u001B[0m\u001B[1;33m:\u001B[0m\u001B[1;33m\u001B[0m\u001B[1;33m\u001B[0m\u001B[0m\n",
      "\u001B[1;32mF:\\anaconda2\\envs\\cuda10.1\\lib\\site-packages\\h5py\\_hl\\files.py\u001B[0m in \u001B[0;36m__init__\u001B[1;34m(self, name, mode, driver, libver, userblock_size, swmr, rdcc_nslots, rdcc_nbytes, rdcc_w0, track_order, fs_strategy, fs_persist, fs_threshold, fs_page_size, page_buf_size, min_meta_keep, min_raw_keep, locking, alignment_threshold, alignment_interval, meta_block_size, **kwds)\u001B[0m\n\u001B[0;32m    565\u001B[0m                                  \u001B[0mfs_persist\u001B[0m\u001B[1;33m=\u001B[0m\u001B[0mfs_persist\u001B[0m\u001B[1;33m,\u001B[0m \u001B[0mfs_threshold\u001B[0m\u001B[1;33m=\u001B[0m\u001B[0mfs_threshold\u001B[0m\u001B[1;33m,\u001B[0m\u001B[1;33m\u001B[0m\u001B[1;33m\u001B[0m\u001B[0m\n\u001B[0;32m    566\u001B[0m                                  fs_page_size=fs_page_size)\n\u001B[1;32m--> 567\u001B[1;33m                 \u001B[0mfid\u001B[0m \u001B[1;33m=\u001B[0m \u001B[0mmake_fid\u001B[0m\u001B[1;33m(\u001B[0m\u001B[0mname\u001B[0m\u001B[1;33m,\u001B[0m \u001B[0mmode\u001B[0m\u001B[1;33m,\u001B[0m \u001B[0muserblock_size\u001B[0m\u001B[1;33m,\u001B[0m \u001B[0mfapl\u001B[0m\u001B[1;33m,\u001B[0m \u001B[0mfcpl\u001B[0m\u001B[1;33m,\u001B[0m \u001B[0mswmr\u001B[0m\u001B[1;33m=\u001B[0m\u001B[0mswmr\u001B[0m\u001B[1;33m)\u001B[0m\u001B[1;33m\u001B[0m\u001B[1;33m\u001B[0m\u001B[0m\n\u001B[0m\u001B[0;32m    568\u001B[0m \u001B[1;33m\u001B[0m\u001B[0m\n\u001B[0;32m    569\u001B[0m             \u001B[1;32mif\u001B[0m \u001B[0misinstance\u001B[0m\u001B[1;33m(\u001B[0m\u001B[0mlibver\u001B[0m\u001B[1;33m,\u001B[0m \u001B[0mtuple\u001B[0m\u001B[1;33m)\u001B[0m\u001B[1;33m:\u001B[0m\u001B[1;33m\u001B[0m\u001B[1;33m\u001B[0m\u001B[0m\n",
      "\u001B[1;32mF:\\anaconda2\\envs\\cuda10.1\\lib\\site-packages\\h5py\\_hl\\files.py\u001B[0m in \u001B[0;36mmake_fid\u001B[1;34m(name, mode, userblock_size, fapl, fcpl, swmr)\u001B[0m\n\u001B[0;32m    229\u001B[0m         \u001B[1;32mif\u001B[0m \u001B[0mswmr\u001B[0m \u001B[1;32mand\u001B[0m \u001B[0mswmr_support\u001B[0m\u001B[1;33m:\u001B[0m\u001B[1;33m\u001B[0m\u001B[1;33m\u001B[0m\u001B[0m\n\u001B[0;32m    230\u001B[0m             \u001B[0mflags\u001B[0m \u001B[1;33m|=\u001B[0m \u001B[0mh5f\u001B[0m\u001B[1;33m.\u001B[0m\u001B[0mACC_SWMR_READ\u001B[0m\u001B[1;33m\u001B[0m\u001B[1;33m\u001B[0m\u001B[0m\n\u001B[1;32m--> 231\u001B[1;33m         \u001B[0mfid\u001B[0m \u001B[1;33m=\u001B[0m \u001B[0mh5f\u001B[0m\u001B[1;33m.\u001B[0m\u001B[0mopen\u001B[0m\u001B[1;33m(\u001B[0m\u001B[0mname\u001B[0m\u001B[1;33m,\u001B[0m \u001B[0mflags\u001B[0m\u001B[1;33m,\u001B[0m \u001B[0mfapl\u001B[0m\u001B[1;33m=\u001B[0m\u001B[0mfapl\u001B[0m\u001B[1;33m)\u001B[0m\u001B[1;33m\u001B[0m\u001B[1;33m\u001B[0m\u001B[0m\n\u001B[0m\u001B[0;32m    232\u001B[0m     \u001B[1;32melif\u001B[0m \u001B[0mmode\u001B[0m \u001B[1;33m==\u001B[0m \u001B[1;34m'r+'\u001B[0m\u001B[1;33m:\u001B[0m\u001B[1;33m\u001B[0m\u001B[1;33m\u001B[0m\u001B[0m\n\u001B[0;32m    233\u001B[0m         \u001B[0mfid\u001B[0m \u001B[1;33m=\u001B[0m \u001B[0mh5f\u001B[0m\u001B[1;33m.\u001B[0m\u001B[0mopen\u001B[0m\u001B[1;33m(\u001B[0m\u001B[0mname\u001B[0m\u001B[1;33m,\u001B[0m \u001B[0mh5f\u001B[0m\u001B[1;33m.\u001B[0m\u001B[0mACC_RDWR\u001B[0m\u001B[1;33m,\u001B[0m \u001B[0mfapl\u001B[0m\u001B[1;33m=\u001B[0m\u001B[0mfapl\u001B[0m\u001B[1;33m)\u001B[0m\u001B[1;33m\u001B[0m\u001B[1;33m\u001B[0m\u001B[0m\n",
      "\u001B[1;32mh5py\\_objects.pyx\u001B[0m in \u001B[0;36mh5py._objects.with_phil.wrapper\u001B[1;34m()\u001B[0m\n",
      "\u001B[1;32mh5py\\_objects.pyx\u001B[0m in \u001B[0;36mh5py._objects.with_phil.wrapper\u001B[1;34m()\u001B[0m\n",
      "\u001B[1;32mh5py\\h5f.pyx\u001B[0m in \u001B[0;36mh5py.h5f.open\u001B[1;34m()\u001B[0m\n",
      "\u001B[1;31mFileNotFoundError\u001B[0m: [Errno 2] Unable to open file (unable to open file: name = 'C:\\Users\\REBECCA329\\Desktop\\BIO\\file\\Data\\Data\\1.DLPFC\\151672\\filtered_feature_bc_matrix.h5', errno = 2, error message = 'No such file or directory', flags = 0, o_flags = 0)"
     ]
    }
   ],
   "source": [
    "# Run device, by default, the package is implemented on 'cpu'. We recommend using GPU.\n",
    "device = torch.device('cuda:0' if torch.cuda.is_available() else 'cpu')\n",
    "print(device)\n",
    "# the location of R, which is necessary for mclust algorithm. Please replace the path below with local R installation path\n",
    "os.environ['R_HOME'] = 'F:/Program Files/R/R-4.3.2'\n",
    "\n",
    "# the number of clusters\n",
    "n_clusters = 5\n",
    "dataset = '151672'\n",
    "#读取ST数据\n",
    "# read data\n",
    "file_fold = r'C:\\Users\\REBECCA329\\Desktop\\BIO\\file\\Data\\Data\\1.DLPFC/' + str(\n",
    "    dataset)  #please replace 'file_fold' with the download path\n",
    "print(file_fold)\n",
    "adata = sc.read_visium(file_fold, count_file='filtered_feature_bc_matrix.h5', load_images=True)\n",
    "\n",
    "adata.var_names_make_unique()\n",
    "adata\n"
   ],
   "metadata": {
    "collapsed": false,
    "ExecuteTime": {
     "end_time": "2024-08-02T08:56:13.210490600Z",
     "start_time": "2024-08-02T08:56:12.941586100Z"
    }
   },
   "id": "d01789713f69799f",
   "execution_count": 3
  },
  {
   "cell_type": "code",
   "outputs": [],
   "source": [
    "#训练模型、\n",
    "# define model\n",
    "model = GraphST.GraphST(adata, device=device)  #似乎应该在后面一个步骤中去实现\n",
    "\n",
    "# train model\n",
    "adata = model.train()\n",
    "adata\n",
    "#空间聚类和细化\n",
    "# set radius to specify the number of neighbors considered during refinement\n",
    "radius = 50\n",
    "\n",
    "tool = 'mclust'  # mclust, leiden, and louvain\n",
    "\n",
    "# clustering\n",
    "from GraphST.utils import clustering\n",
    "\n",
    "if tool == 'mclust':\n",
    "    clustering(adata, n_clusters, radius=radius, method=tool,\n",
    "               refinement=True)  # For DLPFC dataset, we use optional refinement step.\n",
    "elif tool in ['leiden', 'louvain']:\n",
    "    clustering(adata, n_clusters, radius=radius, method=tool, start=0.1, end=2.0, increment=0.01, refinement=False)\n",
    "\n",
    "#可视化\n",
    "# add ground_truth\n",
    "df_meta = pd.read_csv(file_fold + '/metadata.tsv', sep='\\t')\n",
    "df_meta_layer = df_meta['layer_guess_reordered']\n",
    "adata.obs['ground_truth'] = df_meta_layer.values  #转化成numpy数组\n",
    "\n",
    "# filter out NA nodes\n",
    "adata = adata[~pd.isnull(adata.obs['ground_truth'])]\n",
    "\n",
    "# calculate metric ARI\n",
    "ARI = metrics.adjusted_rand_score(adata.obs['domain'], adata.obs['ground_truth'])\n",
    "adata.uns['ARI'] = ARI\n",
    "\n",
    "print('Dataset:', dataset)\n",
    "print('ARI:', ARI)\n",
    "\n",
    "# plotting spatial clustering result\n",
    "sc.pl.spatial(adata,\n",
    "              img_key=\"hires\",\n",
    "              color=[\"ground_truth\", \"domain\"],\n",
    "              title=[\"Ground truth\", \"ARI=%.4f\" % ARI],\n",
    "              show=True)  #color表示用来着色的变量\n",
    "\n",
    "# plotting predicted labels by UMAP\n",
    "sc.pp.neighbors(adata, use_rep='emb_pca', n_neighbors=10)\n",
    "sc.tl.umap(adata)\n",
    "sc.pl.umap(adata, color='domain', title=['Predicted labels'], show=False)\n",
    "# plotting predicted labels by UMAP\n",
    "sc.pp.neighbors(adata, use_rep='emb_pca', n_neighbors=10)\n",
    "sc.tl.umap(adata)\n",
    "sc.pl.umap(adata, color='domain', title=['Predicted labels'], show=False)\n",
    "\n"
   ],
   "metadata": {
    "collapsed": false
   },
   "id": "e1b2c45fdf782602",
   "execution_count": null
  }
 ],
 "metadata": {
  "kernelspec": {
   "display_name": "Python 3",
   "language": "python",
   "name": "python3"
  },
  "language_info": {
   "codemirror_mode": {
    "name": "ipython",
    "version": 2
   },
   "file_extension": ".py",
   "mimetype": "text/x-python",
   "name": "python",
   "nbconvert_exporter": "python",
   "pygments_lexer": "ipython2",
   "version": "2.7.6"
  }
 },
 "nbformat": 4,
 "nbformat_minor": 5
}
