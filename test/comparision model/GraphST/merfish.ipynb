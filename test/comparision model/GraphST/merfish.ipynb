{
 "cells": [
  {
   "cell_type": "code",
   "id": "initial_id",
   "metadata": {
    "collapsed": true,
    "ExecuteTime": {
     "end_time": "2025-08-01T13:16:18.082194Z",
     "start_time": "2025-08-01T13:16:11.627711Z"
    }
   },
   "source": [
    "import os\n",
    "import torch\n",
    "import pandas as pd\n",
    "import scanpy as sc\n",
    "from sklearn import metrics\n",
    "import multiprocessing as mp\n",
    "from sklearn.metrics import adjusted_rand_score\n",
    "from GraphST import GraphST\n",
    "from sklearn.metrics import accuracy_score\n",
    "from sklearn.metrics import confusion_matrix\n",
    "from scipy.optimize import linear_sum_assignment\n",
    "import numpy as np"
   ],
   "outputs": [],
   "execution_count": 1
  },
  {
   "metadata": {
    "ExecuteTime": {
     "end_time": "2025-08-01T13:16:23.590084Z",
     "start_time": "2025-08-01T13:16:23.544834Z"
    }
   },
   "cell_type": "code",
   "source": [
    "device = torch.device('cuda:0' if torch.cuda.is_available() else 'cpu')\n",
    "# the location of R, which is necessary for mclust algorithm. Please replace the path below with local R installation path\n",
    "os.environ['R_HOME'] = r\"C:\\Program Files\\R\\R-4.4.2\""
   ],
   "id": "5ff5c6cb4f69f7cc",
   "outputs": [],
   "execution_count": 2
  },
  {
   "metadata": {
    "ExecuteTime": {
     "end_time": "2025-08-01T13:16:24.431164Z",
     "start_time": "2025-08-01T13:16:24.415370Z"
    }
   },
   "cell_type": "code",
   "source": [
    "n_clusters = 8\n",
    "slicename = '29'"
   ],
   "id": "a28900aa1782c86c",
   "outputs": [],
   "execution_count": 3
  },
  {
   "metadata": {
    "ExecuteTime": {
     "end_time": "2025-08-01T13:16:25.580451Z",
     "start_time": "2025-08-01T13:16:25.432168Z"
    }
   },
   "cell_type": "code",
   "source": [
    "adata = sc.read_h5ad(fr\"C:\\E\\JSU\\BIO\\file\\STrafer\\params\\merfish\\{slicename}.h5ad\")\n",
    "label_mapping = {'MPA': 1, 'MPN': 2, 'BST': 3, 'fx': 4, \"PVH\":5,\"PVT\":6,\"V3\":7, 'PV': 0}\n",
    "labels = adata.obs['ground_truth'].map(label_mapping)\n",
    "\n",
    "adata.var_names_make_unique()\n",
    "# pre-process\n",
    "\n",
    "adata.layers['count'] = adata.X\n",
    "sc.pp.filter_genes(adata, min_cells=50)\n",
    "sc.pp.filter_genes(adata, min_counts=10)\n",
    "sc.pp.normalize_total(adata, target_sum=1e6)\n",
    "sc.pp.highly_variable_genes(adata, flavor=\"seurat_v3\", layer='count', n_top_genes=150)\n",
    "adata = adata[:, adata.var['highly_variable'] == True]\n",
    "sc.pp.scale(adata)"
   ],
   "id": "a1678e5b9eb6e72c",
   "outputs": [
    {
     "name": "stderr",
     "output_type": "stream",
     "text": [
      "C:\\F\\XZWJ\\anaconda\\envs\\cuda11.8\\lib\\site-packages\\scanpy\\preprocessing\\_highly_variable_genes.py:75: UserWarning: `flavor='seurat_v3'` expects raw count data, but non-integers were found.\n",
      "  warnings.warn(\n",
      "C:\\F\\XZWJ\\anaconda\\envs\\cuda11.8\\lib\\site-packages\\scanpy\\preprocessing\\_scale.py:318: UserWarning: Received a view of an AnnData. Making a copy.\n",
      "  view_to_actual(adata)\n"
     ]
    }
   ],
   "execution_count": 4
  },
  {
   "metadata": {
    "ExecuteTime": {
     "end_time": "2025-08-01T13:16:44.151296Z",
     "start_time": "2025-08-01T13:16:26.610297Z"
    }
   },
   "cell_type": "code",
   "source": [
    "# define model\n",
    "model = GraphST.GraphST(adata, device=device)\n",
    "# train model\n",
    "adata = model.train()"
   ],
   "id": "8e3a6c6785cb2dd6",
   "outputs": [
    {
     "name": "stdout",
     "output_type": "stream",
     "text": [
      "Begin to train ST data...\n"
     ]
    },
    {
     "name": "stderr",
     "output_type": "stream",
     "text": [
      "100%|██████████| 600/600 [00:13<00:00, 44.20it/s]"
     ]
    },
    {
     "name": "stdout",
     "output_type": "stream",
     "text": [
      "Optimization finished for ST data!\n"
     ]
    },
    {
     "name": "stderr",
     "output_type": "stream",
     "text": [
      "\n"
     ]
    }
   ],
   "execution_count": 5
  },
  {
   "metadata": {
    "ExecuteTime": {
     "end_time": "2025-08-01T13:16:52.607091Z",
     "start_time": "2025-08-01T13:16:46.860874Z"
    }
   },
   "cell_type": "code",
   "source": [
    "# set radius to specify the number of neighbors considered during refinement\n",
    "radius = 50\n",
    "\n",
    "tool = 'mclust' # mclust, leiden, and louvain\n",
    "\n",
    "# clustering\n",
    "from GraphST.utils import clustering\n",
    "\n",
    "if tool == 'mclust':\n",
    "   clustering(adata, n_clusters, radius=radius, method=tool, refinement=True) # For DLPFC dataset, we use optional refinement step.\n",
    "elif tool in ['leiden', 'louvain']:\n",
    "   clustering(adata, n_clusters, radius=radius, method=tool, start=0.1, end=2.0, increment=0.01, refinement=False)"
   ],
   "id": "df7a71a3d46206aa",
   "outputs": [
    {
     "name": "stderr",
     "output_type": "stream",
     "text": [
      "R[write to console]:                    __           __ \n",
      "   ____ ___  _____/ /_  _______/ /_\n",
      "  / __ `__ \\/ ___/ / / / / ___/ __/\n",
      " / / / / / / /__/ / /_/ (__  ) /_  \n",
      "/_/ /_/ /_/\\___/_/\\__,_/____/\\__/   version 6.1.1\n",
      "Type 'citation(\"mclust\")' for citing this R package in publications.\n",
      "\n"
     ]
    },
    {
     "name": "stdout",
     "output_type": "stream",
     "text": [
      "fitting ...\n",
      "  |======================================================================| 100%\n"
     ]
    }
   ],
   "execution_count": 6
  },
  {
   "metadata": {
    "ExecuteTime": {
     "end_time": "2025-08-01T13:16:57.793182Z",
     "start_time": "2025-08-01T13:16:57.789175Z"
    }
   },
   "cell_type": "code",
   "source": "y_pred = adata.obs['domain'].values.astype(int)-1",
   "id": "ce6cff8f7730bdee",
   "outputs": [],
   "execution_count": 7
  },
  {
   "metadata": {
    "ExecuteTime": {
     "end_time": "2025-08-01T13:16:59.735082Z",
     "start_time": "2025-08-01T13:16:59.719214Z"
    }
   },
   "cell_type": "code",
   "source": [
    "conf_mat = confusion_matrix(labels, y_pred, labels=np.arange(8))\n",
    "row_ind, col_ind = linear_sum_assignment(-conf_mat)\n",
    "mapping = {pred_label: true_label for true_label, pred_label in zip(row_ind, col_ind)}\n",
    "y_pred = np.array([mapping[p] for p in y_pred])\n",
    "adata.obs[\"pred\"]= y_pred"
   ],
   "id": "f87d8cfc7b7ab3ab",
   "outputs": [],
   "execution_count": 8
  },
  {
   "metadata": {
    "ExecuteTime": {
     "end_time": "2025-08-01T13:17:00.509375Z",
     "start_time": "2025-08-01T13:17:00.477980Z"
    }
   },
   "cell_type": "code",
   "source": [
    "pred = y_pred\n",
    "\n",
    "ARI_s = adjusted_rand_score(pred, labels)\n",
    "acc_s = accuracy_score(pred, labels)\n",
    "print(\"ARI_s:\", ARI_s)\n",
    "print(\"acc_s\", acc_s)"
   ],
   "id": "4c53891c9d8a64ea",
   "outputs": [
    {
     "name": "stdout",
     "output_type": "stream",
     "text": [
      "ARI_s: 0.26905598555354493\n",
      "acc_s 0.5661194299116002\n"
     ]
    }
   ],
   "execution_count": 9
  },
  {
   "metadata": {
    "ExecuteTime": {
     "end_time": "2025-06-07T14:24:28.009529Z",
     "start_time": "2025-06-07T14:24:27.992254Z"
    }
   },
   "cell_type": "code",
   "source": [
    "folder_path = fr'C:\\E\\JSU\\BIO\\file\\STrafer\\params\\merfish\\GraphST\\{slicename}'\n",
    "os.makedirs(folder_path, exist_ok=True)\n",
    "pred_labels_list = pd.DataFrame({\n",
    "    'spot': list(range(1, len(adata.obs['domain']) + 1)),\n",
    "    'pred': y_pred\n",
    "})\n",
    "file_path_pred = os.path.join(folder_path, 'pred_labels.csv')\n",
    "pred_labels_list.to_csv(file_path_pred, index=False)\n",
    "# pred = adata.obs['domain']\n",
    "\n",
    "pred = pd.read_csv(fr\"C:\\E\\JSU\\BIO\\file\\STrafer\\params\\merfish\\GraphST\\{slicename}\\pred_labels.csv\",delimiter=',')\n"
   ],
   "id": "48d79583383c350e",
   "outputs": [],
   "execution_count": 23
  },
  {
   "metadata": {
    "ExecuteTime": {
     "end_time": "2025-07-30T14:09:30.448884Z",
     "start_time": "2025-07-30T14:09:30.368056Z"
    }
   },
   "cell_type": "code",
   "source": [
    "import matplotlib.lines as mlines\n",
    "import matplotlib.pyplot as plt\n",
    "\n",
    "slicename = '25'\n",
    "pred = pd.read_csv(fr\"C:\\E\\JSU\\BIO\\file\\STrafer\\params\\merfish\\GraphST\\{slicename}\\pred_labels.csv\",delimiter=',')\n",
    "\n",
    "color_mapping = {\n",
    "    0: \"#5698D3\",  # 蓝色\n",
    "    1: \"#C2A16C\",  # 浅褐色\n",
    "    2: \"#6F6DAF\",  # 深紫\n",
    "    3: \"#8B2A2A\",  # 暗红\n",
    "    4: \"#A65B8D\",  # 紫红\n",
    "    5: \"#E6C44D\",  # 金黄\n",
    "    6: \"#66B2A6\",  # 青绿色\n",
    "    7: \"#D17CA3\",  # 粉紫\n",
    "}\n",
    "\n",
    "adata = sc.read_h5ad(fr\"C:\\E\\JSU\\BIO\\file\\STrafer\\params\\merfish\\{slicename}.h5ad\")\n",
    "label_mapping = {'MPA': 1, 'MPN': 2, 'BST': 3, 'fx': 4, \"PVH\":5,\"PVT\":6,\"V3\":7, 'PV': 0}\n",
    "labels = adata.obs['ground_truth'].map(label_mapping)\n",
    "\n",
    "adata.var_names_make_unique()\n",
    "# pre-process\n",
    "\n",
    "adata.layers['count'] = adata.X\n",
    "sc.pp.filter_genes(adata, min_cells=50)\n",
    "sc.pp.filter_genes(adata, min_counts=10)\n",
    "sc.pp.normalize_total(adata, target_sum=1e6)\n",
    "sc.pp.highly_variable_genes(adata, flavor=\"seurat_v3\", layer='count', n_top_genes=150)\n",
    "adata = adata[:, adata.var['highly_variable'] == True]\n",
    "sc.pp.scale(adata)"
   ],
   "id": "22b648acb4246433",
   "outputs": [],
   "execution_count": 8
  },
  {
   "metadata": {
    "ExecuteTime": {
     "end_time": "2025-07-30T14:14:44.181105Z",
     "start_time": "2025-07-30T14:14:44.171094Z"
    }
   },
   "cell_type": "code",
   "source": [
    "y_pred = pd.read_csv(fr\"C:\\E\\JSU\\BIO\\file\\STrafer\\params\\merfish\\GraphST\\{slicename}\\pred_labels.csv\",delimiter=',')\n",
    "y_pred = y_pred['pred']"
   ],
   "id": "f7ccb6f08cf09be1",
   "outputs": [],
   "execution_count": 20
  },
  {
   "metadata": {
    "ExecuteTime": {
     "end_time": "2025-07-30T14:15:03.877379Z",
     "start_time": "2025-07-30T14:15:03.859627Z"
    }
   },
   "cell_type": "code",
   "source": [
    "conf_mat = confusion_matrix(labels, y_pred, labels=np.arange(8))\n",
    "row_ind, col_ind = linear_sum_assignment(-conf_mat)\n",
    "mapping = {pred_label: true_label for true_label, pred_label in zip(row_ind, col_ind)}\n",
    "y_pred = np.array([mapping[p] for p in y_pred])\n",
    "adata.obs[\"pred\"] = y_pred\n",
    "pred = y_pred\n",
    "\n",
    "ARI = adjusted_rand_score(pred, labels)\n",
    "acc = accuracy_score(pred, labels)\n",
    "print(\"ARI_s:\", ARI_s)\n",
    "print(\"acc_s\", acc_s)"
   ],
   "id": "288e508b24fe9325",
   "outputs": [
    {
     "name": "stdout",
     "output_type": "stream",
     "text": [
      "ARI_s: 0.1420817587115786\n",
      "acc_s 0.37518221574344024\n"
     ]
    }
   ],
   "execution_count": 21
  }
 ],
 "metadata": {
  "kernelspec": {
   "display_name": "Python 3",
   "language": "python",
   "name": "python3"
  },
  "language_info": {
   "codemirror_mode": {
    "name": "ipython",
    "version": 2
   },
   "file_extension": ".py",
   "mimetype": "text/x-python",
   "name": "python",
   "nbconvert_exporter": "python",
   "pygments_lexer": "ipython2",
   "version": "2.7.6"
  }
 },
 "nbformat": 4,
 "nbformat_minor": 5
}
