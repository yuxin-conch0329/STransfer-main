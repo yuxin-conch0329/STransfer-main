{
 "cells": [
  {
   "cell_type": "code",
   "id": "initial_id",
   "metadata": {
    "collapsed": true,
    "ExecuteTime": {
     "end_time": "2025-08-01T13:13:20.128989Z",
     "start_time": "2025-08-01T13:12:51.825488Z"
    }
   },
   "source": [
    "import os\n",
    "import torch\n",
    "import pandas as pd\n",
    "import scanpy as sc\n",
    "import numpy as np\n",
    "import matplotlib.lines as mlines\n",
    "from sklearn import metrics\n",
    "import multiprocessing as mp\n",
    "from sklearn.metrics import adjusted_rand_score\n",
    "from GraphST import GraphST\n",
    "from sklearn.metrics import accuracy_score\n",
    "from anndata import AnnData\n",
    "from sklearn.metrics import confusion_matrix\n",
    "from scipy.optimize import linear_sum_assignment\n",
    "import matplotlib.pyplot as plt\n",
    "device = torch.device('cuda:0' if torch.cuda.is_available() else 'cpu')\n",
    "# the location of R, which is necessary for mclust algorithm. Please replace the path below with local R installation path\n",
    "os.environ['R_HOME'] = r\"C:\\Program Files\\R\\R-4.4.2\""
   ],
   "outputs": [],
   "execution_count": 1
  },
  {
   "metadata": {
    "ExecuteTime": {
     "end_time": "2025-08-01T13:13:27.112288Z",
     "start_time": "2025-08-01T13:13:27.102273Z"
    }
   },
   "cell_type": "code",
   "source": [
    "slicename = \"151507\"\n",
    "n_clusters = 7"
   ],
   "id": "5d9241131eb5387",
   "outputs": [],
   "execution_count": 2
  },
  {
   "metadata": {
    "ExecuteTime": {
     "end_time": "2025-08-01T13:13:31.724252Z",
     "start_time": "2025-08-01T13:13:31.608428Z"
    }
   },
   "cell_type": "code",
   "source": [
    "spatial_data = pd.read_csv(fr\"C:\\E\\JSU\\BIO\\file\\SpaGCN-master\\SpaGCN-master\\tutorial\\{slicename}\\spatial\\tissue_positions_list.csv\", sep=\",\", header=None)\n",
    "spatial_data.columns = ['barcode', 'in_tissue', 'row', 'col', 'pxl_row_in_fullres', 'pxl_col_in_fullres']\n",
    "spatial_data = spatial_data[spatial_data['in_tissue'] == 1]  # remain cells within tissue (denoted by 1)\n",
    "meta = pd.read_csv(fr\"C:\\E\\JSU\\BIO\\file\\SpaGCN-master\\SpaGCN-master\\tutorial\\{slicename}\\metadata.tsv\", sep=\"\\t\",index_col=False)\n",
    "meta.drop(columns=['row', 'col'], inplace=True)  # delete repeated columns\n",
    "\n",
    "data = spatial_data.merge(meta, on='barcode', how='right')\n",
    "data = data[['barcode', 'row', 'col', 'pxl_row_in_fullres', 'pxl_col_in_fullres', 'expr_chrM']]\n",
    "data = data.dropna(subset=['expr_chrM'])  # delete missing data\n",
    "# labels\n",
    "label_mapping = {'L1': 1, 'L2': 2, 'L3': 3, 'L4': 4, 'L5': 5, 'L6': 6, 'WM': 0} # DLPFC\n",
    "labels = data['expr_chrM'].map(label_mapping)"
   ],
   "id": "5e7d5ed5d4c99dda",
   "outputs": [],
   "execution_count": 3
  },
  {
   "metadata": {
    "ExecuteTime": {
     "end_time": "2025-08-01T13:13:35.682537Z",
     "start_time": "2025-08-01T13:13:35.316760Z"
    }
   },
   "cell_type": "code",
   "source": [
    "# Annotated Data\n",
    "file_path = fr\"C:\\E\\JSU\\BIO\\file\\SpaGCN-master\\SpaGCN-master\\tutorial\\{slicename}\\filtered_feature_bc_matrix.h5\"\n",
    "adata = sc.read_10x_h5(file_path)\n",
    "adata = adata[data.index]\n",
    "adata.obsm['spatial'] = data[['row','col']].values"
   ],
   "id": "2c95e10507b9006b",
   "outputs": [
    {
     "name": "stderr",
     "output_type": "stream",
     "text": [
      "C:\\F\\XZWJ\\anaconda\\envs\\cuda11.8\\lib\\site-packages\\anndata\\_core\\anndata.py:1756: UserWarning: Variable names are not unique. To make them unique, call `.var_names_make_unique`.\n",
      "  utils.warn_names_duplicates(\"var\")\n",
      "C:\\F\\XZWJ\\anaconda\\envs\\cuda11.8\\lib\\site-packages\\anndata\\_core\\anndata.py:1756: UserWarning: Variable names are not unique. To make them unique, call `.var_names_make_unique`.\n",
      "  utils.warn_names_duplicates(\"var\")\n",
      "C:\\Users\\YUXIN\\AppData\\Local\\Temp\\ipykernel_14984\\3092700463.py:5: ImplicitModificationWarning: Setting element `.obsm['spatial']` of view, initializing view as actual.\n",
      "  adata.obsm['spatial'] = data[['row','col']].values\n",
      "C:\\F\\XZWJ\\anaconda\\envs\\cuda11.8\\lib\\site-packages\\anndata\\_core\\anndata.py:1756: UserWarning: Variable names are not unique. To make them unique, call `.var_names_make_unique`.\n",
      "  utils.warn_names_duplicates(\"var\")\n",
      "C:\\F\\XZWJ\\anaconda\\envs\\cuda11.8\\lib\\site-packages\\anndata\\_core\\anndata.py:1756: UserWarning: Variable names are not unique. To make them unique, call `.var_names_make_unique`.\n",
      "  utils.warn_names_duplicates(\"var\")\n"
     ]
    }
   ],
   "execution_count": 4
  },
  {
   "metadata": {
    "ExecuteTime": {
     "end_time": "2025-08-01T13:14:14.899547Z",
     "start_time": "2025-08-01T13:13:37.143034Z"
    }
   },
   "cell_type": "code",
   "source": [
    "# define model\n",
    "model = GraphST.GraphST(adata, device=device)\n",
    "# train model\n",
    "adata = model.train()"
   ],
   "id": "c0c41383d050cfa6",
   "outputs": [
    {
     "name": "stderr",
     "output_type": "stream",
     "text": [
      "C:\\F\\XZWJ\\anaconda\\envs\\cuda11.8\\lib\\site-packages\\anndata\\_core\\anndata.py:1756: UserWarning: Variable names are not unique. To make them unique, call `.var_names_make_unique`.\n",
      "  utils.warn_names_duplicates(\"var\")\n"
     ]
    },
    {
     "name": "stdout",
     "output_type": "stream",
     "text": [
      "Begin to train ST data...\n"
     ]
    },
    {
     "name": "stderr",
     "output_type": "stream",
     "text": [
      "100%|██████████| 600/600 [00:31<00:00, 19.12it/s]"
     ]
    },
    {
     "name": "stdout",
     "output_type": "stream",
     "text": [
      "Optimization finished for ST data!\n"
     ]
    },
    {
     "name": "stderr",
     "output_type": "stream",
     "text": [
      "\n"
     ]
    }
   ],
   "execution_count": 5
  },
  {
   "metadata": {
    "ExecuteTime": {
     "end_time": "2025-08-01T13:14:26.744049Z",
     "start_time": "2025-08-01T13:14:21.012068Z"
    }
   },
   "cell_type": "code",
   "source": [
    "\n",
    "radius = 50\n",
    "\n",
    "tool = 'mclust'  # mclust, leiden, and louvain\n",
    "\n",
    "# clustering\n",
    "from GraphST.utils import clustering\n",
    "\n",
    "if tool == 'mclust':\n",
    "    clustering(adata, n_clusters, radius=radius, method=tool,\n",
    "               refinement=True)  # For DLPFC dataset, we use optional refinement step.\n",
    "elif tool in ['leiden', 'louvain']:\n",
    "    clustering(adata, n_clusters, radius=radius, method=tool, start=0.1, end=2.0, increment=0.01, refinement=False)"
   ],
   "id": "6170fb64036fd73e",
   "outputs": [
    {
     "name": "stderr",
     "output_type": "stream",
     "text": [
      "R[write to console]:                    __           __ \n",
      "   ____ ___  _____/ /_  _______/ /_\n",
      "  / __ `__ \\/ ___/ / / / / ___/ __/\n",
      " / / / / / / /__/ / /_/ (__  ) /_  \n",
      "/_/ /_/ /_/\\___/_/\\__,_/____/\\__/   version 6.1.1\n",
      "Type 'citation(\"mclust\")' for citing this R package in publications.\n",
      "\n"
     ]
    },
    {
     "name": "stdout",
     "output_type": "stream",
     "text": [
      "fitting ...\n",
      "  |======================================================================| 100%\n"
     ]
    }
   ],
   "execution_count": 6
  },
  {
   "metadata": {
    "ExecuteTime": {
     "end_time": "2025-08-01T13:14:31.864999Z",
     "start_time": "2025-08-01T13:14:31.849315Z"
    }
   },
   "cell_type": "code",
   "source": "y_pred = adata.obs['domain'].values.astype(int)-1",
   "id": "ddfcfc0e3325a908",
   "outputs": [],
   "execution_count": 7
  },
  {
   "metadata": {
    "ExecuteTime": {
     "end_time": "2025-08-01T13:14:32.773169Z",
     "start_time": "2025-08-01T13:14:32.761154Z"
    }
   },
   "cell_type": "code",
   "source": [
    "conf_mat = confusion_matrix(labels, y_pred, labels=np.arange(7))\n",
    "row_ind, col_ind = linear_sum_assignment(-conf_mat)\n",
    "mapping = {pred_label: true_label for true_label, pred_label in zip(row_ind, col_ind)}\n",
    "y_pred = np.array([mapping[p] for p in y_pred]) "
   ],
   "id": "783e82bfab278e44",
   "outputs": [],
   "execution_count": 8
  },
  {
   "metadata": {
    "ExecuteTime": {
     "end_time": "2025-08-01T13:14:33.331917Z",
     "start_time": "2025-08-01T13:14:33.314448Z"
    }
   },
   "cell_type": "code",
   "source": [
    "ARI_s = adjusted_rand_score(y_pred, labels)\n",
    "acc_s = accuracy_score(y_pred, labels)\n",
    "print(\"ARI_s:\", ARI_s)\n",
    "print(\"acc_s\", acc_s)"
   ],
   "id": "2658d572d4877e58",
   "outputs": [
    {
     "name": "stdout",
     "output_type": "stream",
     "text": [
      "ARI_s: 0.42495748120250776\n",
      "acc_s 0.5245202558635395\n"
     ]
    }
   ],
   "execution_count": 9
  }
 ],
 "metadata": {
  "kernelspec": {
   "display_name": "Python 3",
   "language": "python",
   "name": "python3"
  },
  "language_info": {
   "codemirror_mode": {
    "name": "ipython",
    "version": 2
   },
   "file_extension": ".py",
   "mimetype": "text/x-python",
   "name": "python",
   "nbconvert_exporter": "python",
   "pygments_lexer": "ipython2",
   "version": "2.7.6"
  }
 },
 "nbformat": 4,
 "nbformat_minor": 5
}
