{
 "cells": [
  {
   "cell_type": "code",
   "id": "initial_id",
   "metadata": {
    "collapsed": true,
    "ExecuteTime": {
     "end_time": "2025-08-01T13:17:50.784919Z",
     "start_time": "2025-08-01T13:17:43.425676Z"
    }
   },
   "source": [
    "import os\n",
    "import torch\n",
    "import pandas as pd\n",
    "import scanpy as sc\n",
    "import numpy as np\n",
    "from sklearn import metrics\n",
    "import multiprocessing as mp\n",
    "from sklearn.metrics import adjusted_rand_score\n",
    "from GraphST import GraphST\n",
    "from sklearn.metrics import accuracy_score\n",
    "from anndata import AnnData\n",
    "from sklearn.metrics import confusion_matrix\n",
    "from scipy.optimize import linear_sum_assignment\n",
    "import matplotlib.pyplot as plt\n",
    "device = torch.device('cuda:0' if torch.cuda.is_available() else 'cpu')\n",
    "# the location of R, which is necessary for mclust algorithm. Please replace the path below with local R installation path\n",
    "os.environ['R_HOME'] = r\"C:\\Program Files\\R\\R-4.4.2\""
   ],
   "outputs": [],
   "execution_count": 1
  },
  {
   "metadata": {
    "ExecuteTime": {
     "end_time": "2025-08-01T13:17:52.563091Z",
     "start_time": "2025-08-01T13:17:52.547109Z"
    }
   },
   "cell_type": "code",
   "source": [
    "slicename = \"BZ9\"\n",
    "n_clusters = 4"
   ],
   "id": "4fa24fb10c1141ea",
   "outputs": [],
   "execution_count": 2
  },
  {
   "metadata": {
    "ExecuteTime": {
     "end_time": "2025-08-01T13:17:53.614135Z",
     "start_time": "2025-08-01T13:17:53.442213Z"
    }
   },
   "cell_type": "code",
   "source": [
    "expr_path = fr\"C:\\E\\JSU\\BIO\\file\\STrafer\\params\\starmap\\starmap_expr_{slicename}.csv\"\n",
    "spatial_path = fr\"C:\\E\\JSU\\BIO\\file\\STrafer\\params\\starmap\\starmap_spatial_{slicename}.csv\"\n",
    "meta = pd.read_csv(expr_path, index_col=0)\n",
    "spatial_data = pd.read_csv(spatial_path, index_col=0)\n",
    "data = spatial_data.merge(meta, left_index=True, right_index=True, how='right')\n",
    "labels = data['z']\n",
    "labels = data['z'].replace(4, 0)\n",
    "\n",
    "adata = AnnData(X=meta.values)\n",
    "adata.obsm['spatial'] = spatial_data[['x', 'y']].values\n",
    "adata.var_names = meta.columns\n",
    "adata.obs_names = spatial_data.index\n",
    "adata.write_h5ad(fr\"C:\\E\\JSU\\BIO\\file\\STrafer\\params\\starmap\\starmap_{slicename}.h5ad\")\n",
    "adata = sc.read_h5ad(fr\"C:\\E\\JSU\\BIO\\file\\STrafer\\params\\starmap\\starmap_{slicename}.h5ad\")\n",
    "adata = adata[data.index]\n",
    "adata.var_names_make_unique()\n",
    "# pre-process\n",
    "# adata.layers['count'] = adata.X.toarray()\n",
    "adata.layers['count'] = adata.X\n",
    "sc.pp.filter_genes(adata, min_cells=50)\n",
    "sc.pp.filter_genes(adata, min_counts=10)\n",
    "sc.pp.normalize_total(adata, target_sum=1e6)\n",
    "sc.pp.highly_variable_genes(adata, flavor=\"seurat_v3\", layer='count', n_top_genes=150)\n",
    "adata = adata[:, adata.var['highly_variable'] == True]\n",
    "sc.pp.scale(adata)"
   ],
   "id": "d5fe76b3008c628",
   "outputs": [
    {
     "name": "stderr",
     "output_type": "stream",
     "text": [
      "C:\\F\\XZWJ\\anaconda\\envs\\cuda11.8\\lib\\site-packages\\scanpy\\preprocessing\\_scale.py:318: UserWarning: Received a view of an AnnData. Making a copy.\n",
      "  view_to_actual(adata)\n"
     ]
    }
   ],
   "execution_count": 3
  },
  {
   "metadata": {
    "ExecuteTime": {
     "end_time": "2025-08-01T13:17:59.409575Z",
     "start_time": "2025-08-01T13:17:55.770798Z"
    }
   },
   "cell_type": "code",
   "source": [
    "# define model\n",
    "model = GraphST.GraphST(adata, device=device)\n",
    "# train model\n",
    "adata = model.train()"
   ],
   "id": "a192400f1df5c73",
   "outputs": [
    {
     "name": "stdout",
     "output_type": "stream",
     "text": [
      "Begin to train ST data...\n"
     ]
    },
    {
     "name": "stderr",
     "output_type": "stream",
     "text": [
      "100%|██████████| 600/600 [00:02<00:00, 218.57it/s]"
     ]
    },
    {
     "name": "stdout",
     "output_type": "stream",
     "text": [
      "Optimization finished for ST data!\n"
     ]
    },
    {
     "name": "stderr",
     "output_type": "stream",
     "text": [
      "\n"
     ]
    }
   ],
   "execution_count": 4
  },
  {
   "metadata": {
    "ExecuteTime": {
     "end_time": "2025-08-01T13:18:02.610914Z",
     "start_time": "2025-08-01T13:18:01.171346Z"
    }
   },
   "cell_type": "code",
   "source": [
    "radius = 50\n",
    "\n",
    "tool = 'mclust' # mclust, leiden, and louvain\n",
    "\n",
    "# clustering\n",
    "from GraphST.utils import clustering\n",
    "\n",
    "if tool == 'mclust':\n",
    "   clustering(adata, n_clusters, radius=radius, method=tool, refinement=True) # For DLPFC dataset, we use optional refinement step.\n",
    "elif tool in ['leiden', 'louvain']:\n",
    "   clustering(adata, n_clusters, radius=radius, method=tool, start=0.1, end=2.0, increment=0.01, refinement=False)"
   ],
   "id": "3124af7ed15abf58",
   "outputs": [
    {
     "name": "stderr",
     "output_type": "stream",
     "text": [
      "R[write to console]:                    __           __ \n",
      "   ____ ___  _____/ /_  _______/ /_\n",
      "  / __ `__ \\/ ___/ / / / / ___/ __/\n",
      " / / / / / / /__/ / /_/ (__  ) /_  \n",
      "/_/ /_/ /_/\\___/_/\\__,_/____/\\__/   version 6.1.1\n",
      "Type 'citation(\"mclust\")' for citing this R package in publications.\n",
      "\n"
     ]
    },
    {
     "name": "stdout",
     "output_type": "stream",
     "text": [
      "fitting ...\n",
      "  |======================================================================| 100%\n"
     ]
    }
   ],
   "execution_count": 5
  },
  {
   "metadata": {
    "ExecuteTime": {
     "end_time": "2025-08-01T13:18:03.269334Z",
     "start_time": "2025-08-01T13:18:03.256941Z"
    }
   },
   "cell_type": "code",
   "source": "y_pred = adata.obs['domain'].values.astype(int)-1",
   "id": "c3a6c74dabefeeb3",
   "outputs": [],
   "execution_count": 6
  },
  {
   "metadata": {
    "ExecuteTime": {
     "end_time": "2025-08-01T13:18:04.223910Z",
     "start_time": "2025-08-01T13:18:04.207863Z"
    }
   },
   "cell_type": "code",
   "source": [
    "conf_mat = confusion_matrix(labels, y_pred, labels=np.arange(4))\n",
    "row_ind, col_ind = linear_sum_assignment(-conf_mat)\n",
    "mapping = {pred_label: true_label for true_label, pred_label in zip(row_ind, col_ind)}\n",
    "y_pred = np.array([mapping[p] for p in y_pred]) "
   ],
   "id": "3de100964076a345",
   "outputs": [],
   "execution_count": 7
  },
  {
   "metadata": {
    "ExecuteTime": {
     "end_time": "2025-08-01T13:18:05.188748Z",
     "start_time": "2025-08-01T13:18:05.173212Z"
    }
   },
   "cell_type": "code",
   "source": [
    " \n",
    "ARI_s = adjusted_rand_score(y_pred, labels)\n",
    "acc_s = accuracy_score(y_pred, labels)\n",
    "print(\"ARI_s:\", ARI_s)\n",
    "print(\"acc_s\", acc_s)"
   ],
   "id": "fd1095cb4f31b061",
   "outputs": [
    {
     "name": "stdout",
     "output_type": "stream",
     "text": [
      "ARI_s: 0.5627355183119359\n",
      "acc_s 0.8138651471984806\n"
     ]
    }
   ],
   "execution_count": 8
  }
 ],
 "metadata": {
  "kernelspec": {
   "display_name": "Python 3",
   "language": "python",
   "name": "python3"
  },
  "language_info": {
   "codemirror_mode": {
    "name": "ipython",
    "version": 2
   },
   "file_extension": ".py",
   "mimetype": "text/x-python",
   "name": "python",
   "nbconvert_exporter": "python",
   "pygments_lexer": "ipython2",
   "version": "2.7.6"
  }
 },
 "nbformat": 4,
 "nbformat_minor": 5
}
