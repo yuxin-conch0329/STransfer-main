{
 "cells": [
  {
   "cell_type": "code",
   "id": "initial_id",
   "metadata": {
    "collapsed": true,
    "ExecuteTime": {
     "end_time": "2025-06-08T09:32:37.800790Z",
     "start_time": "2025-06-08T09:32:36.292334Z"
    }
   },
   "source": [
    "import scanpy as sc\n",
    "import pandas as pd\n",
    "from sklearn import metrics\n",
    "import torch\n",
    "import matplotlib.pyplot as plt\n",
    "import seaborn as sns\n",
    "import os\n",
    "from pathlib import Path\n",
    "import warnings\n",
    "warnings.filterwarnings('ignore')\n",
    "import SEDR\n",
    "\n",
    "import numpy as np\n",
    "from sklearn.metrics import adjusted_rand_score\n",
    "from sklearn.metrics import accuracy_score\n",
    "from sklearn.metrics import confusion_matrix\n",
    "from scipy.optimize import linear_sum_assignment\n",
    "\n",
    "\n",
    "random_seed = 2023\n",
    "SEDR.fix_seed(random_seed)"
   ],
   "outputs": [],
   "execution_count": 1
  },
  {
   "metadata": {
    "ExecuteTime": {
     "end_time": "2025-06-08T09:32:40.143548Z",
     "start_time": "2025-06-08T09:32:40.081181Z"
    }
   },
   "cell_type": "code",
   "source": [
    "# gpu\n",
    "device = 'cuda:0' if torch.cuda.is_available() else 'cpu'\n",
    "\n",
    "# path\n",
    "slicename = '26'\n",
    "n_clusters = 8\n",
    "adata = sc.read_h5ad(fr\"C:\\E\\JSU\\BIO\\file\\STrafer\\params\\merfish\\{slicename}.h5ad\")\n",
    "\n",
    "print(\"Class labels:\", adata.obs['ground_truth'].unique())\n",
    "\n",
    "label_mapping = {'MPA': 1, 'MPN': 2, 'BST': 3, 'fx': 4, \"PVH\": 5, \"PVT\": 6, \"V3\": 7, 'PV': 0}\n",
    "labels = adata.obs['ground_truth'].map(label_mapping)\n"
   ],
   "id": "d6406203311c4703",
   "outputs": [
    {
     "name": "stdout",
     "output_type": "stream",
     "text": [
      "Class labels: ['MPA', 'MPN', 'BST', 'fx', 'PVH', 'PVT', 'V3', 'PV']\n",
      "Categories (8, object): ['BST', 'MPA', 'MPN', 'PV', 'PVH', 'PVT', 'V3', 'fx']\n"
     ]
    }
   ],
   "execution_count": 2
  },
  {
   "metadata": {
    "ExecuteTime": {
     "end_time": "2025-06-08T09:32:42.136042Z",
     "start_time": "2025-06-08T09:32:42.047367Z"
    }
   },
   "cell_type": "code",
   "source": [
    "adata.var_names_make_unique()\n",
    "# pre-process\n",
    "\n",
    "adata.layers['count'] = adata.X\n",
    "sc.pp.filter_genes(adata, min_cells=50)\n",
    "sc.pp.filter_genes(adata, min_counts=10)\n",
    "sc.pp.normalize_total(adata, target_sum=1e6)\n",
    "sc.pp.highly_variable_genes(adata, flavor=\"seurat_v3\", layer='count', n_top_genes=150)\n",
    "\n",
    "\n",
    "adata = adata[:, adata.var['highly_variable'] == True]\n",
    "sc.pp.scale(adata)\n",
    "adata.obs['layer_guess'] = labels\n",
    "\n",
    "from sklearn.decomposition import PCA  # sklearn PCA is used because PCA in scanpy is not stable.\n",
    "adata_X = PCA(n_components=150, random_state=42).fit_transform(adata.X)\n",
    "adata.obsm['X_pca'] = adata_X\n"
   ],
   "id": "74b24ee2ec4a128a",
   "outputs": [],
   "execution_count": 3
  },
  {
   "metadata": {
    "ExecuteTime": {
     "end_time": "2025-06-08T09:33:00.365571Z",
     "start_time": "2025-06-08T09:32:44.376144Z"
    }
   },
   "cell_type": "code",
   "source": [
    "graph_dict = SEDR.graph_construction(adata, 12)\n",
    "print(graph_dict)\n",
    "\n",
    "sedr_net = SEDR.Sedr(adata.obsm['X_pca'], graph_dict, mode='clustering', device=device)\n",
    "using_dec = True\n",
    "if using_dec:\n",
    "    sedr_net.train_with_dec(N=1)\n",
    "else:\n",
    "    sedr_net.train_without_dec(N=1)\n",
    "sedr_feat, _, _, _ = sedr_net.process()\n",
    "adata.obsm['SEDR'] = sedr_feat\n",
    "\n",
    "\n",
    "SEDR.mclust_R(adata, n_clusters, use_rep='SEDR', key_added='SEDR')\n",
    "\n",
    "\n",
    "\n",
    "# sub_adata = adata[~pd.isnull(adata.obs['layer_guess'])]\n",
    "# ARI = metrics.adjusted_rand_score(sub_adata.obs['layer_guess'], sub_adata.obs['SEDR'])\n"
   ],
   "id": "6f14915d494398d",
   "outputs": [
    {
     "name": "stdout",
     "output_type": "stream",
     "text": [
      "{'adj_norm': tensor(indices=tensor([[   0,    2,    3,  ..., 5178, 5554, 5556],\n",
      "                       [   0,    0,    0,  ..., 5556, 5556, 5556]]),\n",
      "       values=tensor([0.0714, 0.0741, 0.0714,  ..., 0.0741, 0.0741, 0.0769]),\n",
      "       size=(5557, 5557), nnz=80015, layout=torch.sparse_coo), 'adj_label': tensor(indices=tensor([[   0,    0,    0,  ..., 5556, 5556, 5556],\n",
      "                       [   0,    2,    3,  ..., 5178, 5554, 5556]]),\n",
      "       values=tensor([1., 1., 1.,  ..., 1., 1., 1.]),\n",
      "       size=(5557, 5557), nnz=80015, dtype=torch.float64,\n",
      "       layout=torch.sparse_coo), 'norm_value': 0.5012989349366631}\n"
     ]
    },
    {
     "name": "stderr",
     "output_type": "stream",
     "text": [
      "100%|██████████| 200/200 [00:05<00:00, 37.33it/s]\n",
      "100%|██████████| 200/200 [00:03<00:00, 56.65it/s]\n",
      "R[write to console]:                    __           __ \n",
      "   ____ ___  _____/ /_  _______/ /_\n",
      "  / __ `__ \\/ ___/ / / / / ___/ __/\n",
      " / / / / / / /__/ / /_/ (__  ) /_  \n",
      "/_/ /_/ /_/\\___/_/\\__,_/____/\\__/   version 6.1.1\n",
      "Type 'citation(\"mclust\")' for citing this R package in publications.\n",
      "\n"
     ]
    },
    {
     "name": "stdout",
     "output_type": "stream",
     "text": [
      "fitting ...\n",
      "  |======================================================================| 100%\n"
     ]
    },
    {
     "data": {
      "text/plain": [
       "AnnData object with n_obs × n_vars = 5557 × 150\n",
       "    obs: 'cell_class', 'neuron_class', 'domain', 'Region', 'ground_truth', 'layer_guess', 'SEDR'\n",
       "    var: 'n_cells', 'n_counts', 'highly_variable', 'highly_variable_rank', 'means', 'variances', 'variances_norm', 'mean', 'std'\n",
       "    uns: 'domain_colors', 'hvg'\n",
       "    obsm: 'spatial', 'X_pca', 'SEDR'\n",
       "    layers: 'count'"
      ]
     },
     "execution_count": 4,
     "metadata": {},
     "output_type": "execute_result"
    }
   ],
   "execution_count": 4
  },
  {
   "metadata": {
    "ExecuteTime": {
     "end_time": "2025-06-08T09:35:40.912583Z",
     "start_time": "2025-06-08T09:35:40.889854Z"
    }
   },
   "cell_type": "code",
   "source": [
    "pred = adata.obs['SEDR']\n",
    "pred = pred.values.astype(int) - 1\n",
    "conf_mat = confusion_matrix(labels, pred, labels=np.arange(8))\n",
    "row_ind, col_ind = linear_sum_assignment(-conf_mat)\n",
    "mapping = {pred_label: true_label for true_label, pred_label in zip(row_ind, col_ind)}\n",
    "y_pred = np.array([mapping[p] for p in pred])\n",
    "adata.obs[\"pred\"] = y_pred"
   ],
   "id": "d8e9f512c9565f88",
   "outputs": [],
   "execution_count": 9
  },
  {
   "metadata": {
    "ExecuteTime": {
     "end_time": "2025-06-08T09:35:42.333323Z",
     "start_time": "2025-06-08T09:35:42.303994Z"
    }
   },
   "cell_type": "code",
   "source": [
    "ARI_s = adjusted_rand_score(pred, labels)\n",
    "acc_s = accuracy_score(pred, labels)\n",
    "print(\"ARI_s:\", ARI_s)\n",
    "print(\"acc_s\", acc_s)\n",
    "folder_path = fr'C:\\E\\JSU\\BIO\\file\\STrafer\\params\\merfish\\SEDR\\{slicename}'\n",
    "os.makedirs(folder_path, exist_ok=True)\n",
    "pred_labels_list = pd.DataFrame({\n",
    "    'spot': list(range(1, len(adata.obs['SEDR']) + 1)),\n",
    "    'pred': y_pred\n",
    "})\n",
    "file_path_pred = os.path.join(folder_path, 'pred_labels.csv')\n",
    "pred_labels_list.to_csv(file_path_pred, index=False)\n",
    "# pred = adata.obs['domain']\n",
    "\n",
    "pred = pd.read_csv(fr\"C:\\E\\JSU\\BIO\\file\\STrafer\\params\\merfish\\SEDR\\{slicename}\\pred_labels.csv\", delimiter=',')\n"
   ],
   "id": "94dd2ca3324771d8",
   "outputs": [
    {
     "name": "stdout",
     "output_type": "stream",
     "text": [
      "ARI_s: 0.323758828553087\n",
      "acc_s 0.3904984703976966\n"
     ]
    }
   ],
   "execution_count": 10
  }
 ],
 "metadata": {
  "kernelspec": {
   "display_name": "Python 3",
   "language": "python",
   "name": "python3"
  },
  "language_info": {
   "codemirror_mode": {
    "name": "ipython",
    "version": 2
   },
   "file_extension": ".py",
   "mimetype": "text/x-python",
   "name": "python",
   "nbconvert_exporter": "python",
   "pygments_lexer": "ipython2",
   "version": "2.7.6"
  }
 },
 "nbformat": 4,
 "nbformat_minor": 5
}
