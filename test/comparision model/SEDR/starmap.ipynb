{
 "cells": [
  {
   "cell_type": "code",
   "id": "initial_id",
   "metadata": {
    "collapsed": true,
    "ExecuteTime": {
     "end_time": "2025-06-11T12:24:49.787307Z",
     "start_time": "2025-06-11T12:24:48.202934Z"
    }
   },
   "source": [
    "import scanpy as sc\n",
    "import pandas as pd\n",
    "from sklearn import metrics\n",
    "import torch\n",
    "import matplotlib.pyplot as plt\n",
    "import seaborn as sns\n",
    "import os\n",
    "from pathlib import Path\n",
    "import warnings\n",
    "warnings.filterwarnings('ignore')\n",
    "import SEDR\n",
    "from anndata import AnnData\n",
    "from sklearn.metrics import confusion_matrix\n",
    "from scipy.optimize import linear_sum_assignment\n",
    "from sklearn.metrics import adjusted_rand_score\n",
    "from sklearn.metrics import accuracy_score\n",
    "import numpy as np\n",
    "\n",
    "\n",
    "random_seed = 2023\n",
    "SEDR.fix_seed(random_seed)"
   ],
   "outputs": [],
   "execution_count": 1
  },
  {
   "metadata": {
    "ExecuteTime": {
     "end_time": "2025-06-11T12:24:50.489930Z",
     "start_time": "2025-06-11T12:24:50.440632Z"
    }
   },
   "cell_type": "code",
   "source": "device = torch.device('cuda:0' if torch.cuda.is_available() else 'cpu')",
   "id": "d771986a2812ebec",
   "outputs": [],
   "execution_count": 2
  },
  {
   "metadata": {
    "ExecuteTime": {
     "end_time": "2025-06-11T12:24:51.001352Z",
     "start_time": "2025-06-11T12:24:50.987337Z"
    }
   },
   "cell_type": "code",
   "source": [
    "slicename = 'BZ14'\n",
    "n_clusters = 4"
   ],
   "id": "ee82793e61232479",
   "outputs": [],
   "execution_count": 3
  },
  {
   "metadata": {
    "ExecuteTime": {
     "end_time": "2025-06-11T12:24:51.576499Z",
     "start_time": "2025-06-11T12:24:51.479266Z"
    }
   },
   "cell_type": "code",
   "source": [
    "expr_path = fr\"C:\\E\\JSU\\BIO\\file\\STrafer\\params\\starmap\\starmap_expr_{slicename}.csv\"\n",
    "spatial_path = fr\"C:\\E\\JSU\\BIO\\file\\STrafer\\params\\starmap\\starmap_spatial_{slicename}.csv\"\n",
    "meta = pd.read_csv(expr_path, index_col=0)\n",
    "spatial_data = pd.read_csv(spatial_path, index_col=0)\n",
    "data = spatial_data.merge(meta, left_index=True, right_index=True, how='right')\n",
    "# labels = data['z']\n",
    "labels = data['z'].replace(4, 0)\n",
    "\n",
    "adata = AnnData(X=meta.values)\n",
    "adata.obsm['spatial'] = spatial_data[['x', 'y']].values\n",
    "adata.var_names = meta.columns\n",
    "adata.obs_names = spatial_data.index\n",
    "adata.write_h5ad(fr\"C:\\E\\JSU\\BIO\\file\\STrafer\\params\\starmap\\starmap_{slicename}.h5ad\")\n",
    "adata = sc.read_h5ad(fr\"C:\\E\\JSU\\BIO\\file\\STrafer\\params\\starmap\\starmap_{slicename}.h5ad\")\n",
    "adata = adata[data.index]\n",
    "adata.var_names_make_unique()\n",
    "# pre-process\n",
    "# adata.layers['count'] = adata.X.toarray()\n",
    "adata.layers['count'] = adata.X\n",
    "sc.pp.filter_genes(adata, min_cells=50)\n",
    "sc.pp.filter_genes(adata, min_counts=10)\n",
    "sc.pp.normalize_total(adata, target_sum=1e6)\n",
    "sc.pp.highly_variable_genes(adata, flavor=\"seurat_v3\", layer='count', n_top_genes=140)\n",
    "adata = adata[:, adata.var['highly_variable'] == True]\n",
    "sc.pp.scale(adata)"
   ],
   "id": "4fd7287cb5525d12",
   "outputs": [],
   "execution_count": 4
  },
  {
   "metadata": {
    "ExecuteTime": {
     "end_time": "2025-06-11T12:24:52.217231Z",
     "start_time": "2025-06-11T12:24:52.129175Z"
    }
   },
   "cell_type": "code",
   "source": [
    "adata.obs['layer_guess'] = labels\n",
    "\n",
    "from sklearn.decomposition import PCA  # sklearn PCA is used because PCA in scanpy is not stable.\n",
    "adata_X = PCA(n_components=140, random_state=42).fit_transform(adata.X)\n",
    "adata.obsm['X_pca'] = adata_X"
   ],
   "id": "552b5a2f9112508e",
   "outputs": [],
   "execution_count": 5
  },
  {
   "metadata": {
    "ExecuteTime": {
     "end_time": "2025-06-11T12:25:05.555963Z",
     "start_time": "2025-06-11T12:24:59.296272Z"
    }
   },
   "cell_type": "code",
   "source": [
    "graph_dict = SEDR.graph_construction(adata, 12)\n",
    "print(graph_dict)\n",
    "\n",
    "sedr_net = SEDR.Sedr(adata.obsm['X_pca'], graph_dict, mode='clustering', device=device)\n",
    "using_dec = True\n",
    "if using_dec:\n",
    "    sedr_net.train_with_dec(N=1)\n",
    "else:\n",
    "    sedr_net.train_without_dec(N=1)\n",
    "sedr_feat, _, _, _ = sedr_net.process()\n",
    "adata.obsm['SEDR'] = sedr_feat\n",
    "\n",
    "\n",
    "SEDR.mclust_R(adata, n_clusters, use_rep='SEDR', key_added='SEDR')\n"
   ],
   "id": "77c077f9354a8c1a",
   "outputs": [
    {
     "name": "stdout",
     "output_type": "stream",
     "text": [
      "{'adj_norm': tensor(indices=tensor([[   0,    2,    7,  ..., 1084, 1086, 1087],\n",
      "                       [   0,    0,    0,  ..., 1087, 1087, 1087]]),\n",
      "       values=tensor([0.0769, 0.0769, 0.0741,  ..., 0.0741, 0.0769, 0.0769]),\n",
      "       size=(1088, 1088), nnz=15802, layout=torch.sparse_coo), 'adj_label': tensor(indices=tensor([[   0,    0,    0,  ..., 1087, 1087, 1087],\n",
      "                       [   0,    2,    7,  ..., 1084, 1086, 1087]]),\n",
      "       values=tensor([1., 1., 1.,  ..., 1., 1., 1.]),\n",
      "       size=(1088, 1088), nnz=15802, dtype=torch.float64,\n",
      "       layout=torch.sparse_coo), 'norm_value': 0.5067648907223132}\n"
     ]
    },
    {
     "name": "stderr",
     "output_type": "stream",
     "text": [
      "100%|██████████| 200/200 [00:02<00:00, 78.86it/s] \n",
      "100%|██████████| 200/200 [00:01<00:00, 101.08it/s]\n",
      "R[write to console]:                    __           __ \n",
      "   ____ ___  _____/ /_  _______/ /_\n",
      "  / __ `__ \\/ ___/ / / / / ___/ __/\n",
      " / / / / / / /__/ / /_/ (__  ) /_  \n",
      "/_/ /_/ /_/\\___/_/\\__,_/____/\\__/   version 6.1.1\n",
      "Type 'citation(\"mclust\")' for citing this R package in publications.\n",
      "\n"
     ]
    },
    {
     "name": "stdout",
     "output_type": "stream",
     "text": [
      "fitting ...\n",
      "  |======================================================================| 100%\n"
     ]
    },
    {
     "data": {
      "text/plain": [
       "AnnData object with n_obs × n_vars = 1088 × 140\n",
       "    obs: 'layer_guess', 'SEDR'\n",
       "    var: 'n_cells', 'n_counts', 'highly_variable', 'highly_variable_rank', 'means', 'variances', 'variances_norm', 'mean', 'std'\n",
       "    uns: 'hvg'\n",
       "    obsm: 'spatial', 'X_pca', 'SEDR'\n",
       "    layers: 'count'"
      ]
     },
     "execution_count": 6,
     "metadata": {},
     "output_type": "execute_result"
    }
   ],
   "execution_count": 6
  },
  {
   "metadata": {
    "ExecuteTime": {
     "end_time": "2025-06-11T12:25:06.797380Z",
     "start_time": "2025-06-11T12:25:06.785349Z"
    }
   },
   "cell_type": "code",
   "source": [
    "y_pred = adata.obs['SEDR'].values.astype(int) - 1\n",
    "conf_mat = confusion_matrix(labels, y_pred, labels=np.arange(4))\n",
    "row_ind, col_ind = linear_sum_assignment(-conf_mat)\n",
    "mapping = {pred_label: true_label for true_label, pred_label in zip(row_ind, col_ind)}\n",
    "y_pred = np.array([mapping[p] for p in y_pred])"
   ],
   "id": "472dd275cb3a8225",
   "outputs": [],
   "execution_count": 7
  },
  {
   "metadata": {
    "ExecuteTime": {
     "end_time": "2025-06-11T12:25:12.772613Z",
     "start_time": "2025-06-11T12:25:12.762592Z"
    }
   },
   "cell_type": "code",
   "source": [
    "pred = y_pred\n",
    "\n",
    "ARI_s = adjusted_rand_score(pred, labels)\n",
    "acc_s = accuracy_score(pred, labels)\n",
    "print(\"ARI_s:\", ARI_s)\n",
    "print(\"acc_s\", acc_s)"
   ],
   "id": "6787ab666c5139e1",
   "outputs": [
    {
     "name": "stdout",
     "output_type": "stream",
     "text": [
      "ARI_s: 0.2673438840753168\n",
      "acc_s 0.5818014705882353\n"
     ]
    }
   ],
   "execution_count": 8
  }
 ],
 "metadata": {
  "kernelspec": {
   "display_name": "Python 3",
   "language": "python",
   "name": "python3"
  },
  "language_info": {
   "codemirror_mode": {
    "name": "ipython",
    "version": 2
   },
   "file_extension": ".py",
   "mimetype": "text/x-python",
   "name": "python",
   "nbconvert_exporter": "python",
   "pygments_lexer": "ipython2",
   "version": "2.7.6"
  }
 },
 "nbformat": 4,
 "nbformat_minor": 5
}
