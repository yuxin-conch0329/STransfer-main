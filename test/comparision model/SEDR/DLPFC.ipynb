{
 "cells": [
  {
   "cell_type": "code",
   "id": "initial_id",
   "metadata": {
    "collapsed": true,
    "ExecuteTime": {
     "end_time": "2025-06-08T15:10:41.932148Z",
     "start_time": "2025-06-08T15:10:41.921139Z"
    }
   },
   "source": [
    "import scanpy as sc\n",
    "import pandas as pd\n",
    "from sklearn import metrics\n",
    "import torch\n",
    "import matplotlib.pyplot as plt\n",
    "import seaborn as sns\n",
    "import os\n",
    "from pathlib import Path\n",
    "import warnings\n",
    "warnings.filterwarnings('ignore')\n",
    "import SEDR\n",
    "import matplotlib.lines as mlines\n",
    "import numpy as np\n",
    "from sklearn.metrics import adjusted_rand_score\n",
    "from sklearn.metrics import accuracy_score\n",
    "from sklearn.metrics import confusion_matrix\n",
    "from scipy.optimize import linear_sum_assignment\n",
    "\n",
    "\n",
    "random_seed = 2023\n",
    "SEDR.fix_seed(random_seed)"
   ],
   "outputs": [],
   "execution_count": 14
  },
  {
   "metadata": {
    "ExecuteTime": {
     "end_time": "2025-06-08T15:05:38.873412Z",
     "start_time": "2025-06-08T15:05:38.842105Z"
    }
   },
   "cell_type": "code",
   "source": "device = torch.device('cuda:0' if torch.cuda.is_available() else 'cpu')",
   "id": "811531a9e5131ecb",
   "outputs": [],
   "execution_count": 4
  },
  {
   "metadata": {
    "ExecuteTime": {
     "end_time": "2025-06-08T15:06:46.853177Z",
     "start_time": "2025-06-08T15:06:46.845119Z"
    }
   },
   "cell_type": "code",
   "source": [
    "slicename = \"151507\"\n",
    "n_clusters = 7\n"
   ],
   "id": "4af9c097d59a7823",
   "outputs": [],
   "execution_count": 5
  },
  {
   "metadata": {
    "ExecuteTime": {
     "end_time": "2025-06-08T15:06:48.025946Z",
     "start_time": "2025-06-08T15:06:47.741067Z"
    }
   },
   "cell_type": "code",
   "source": [
    "spatial_data = pd.read_csv(\n",
    "    fr\"C:\\E\\JSU\\BIO\\file\\SpaGCN-master\\SpaGCN-master\\tutorial\\{slicename}\\spatial\\tissue_positions_list.csv\", sep=\",\",\n",
    "    header=None)\n",
    "spatial_data.columns = ['barcode', 'in_tissue', 'row', 'col', 'pxl_row_in_fullres', 'pxl_col_in_fullres']\n",
    "spatial_data = spatial_data[spatial_data['in_tissue'] == 1]  # remain cells within tissue (denoted by 1)\n",
    "meta = pd.read_csv(fr\"C:\\E\\JSU\\BIO\\file\\SpaGCN-master\\SpaGCN-master\\tutorial\\{slicename}\\metadata.tsv\", sep=\"\\t\",\n",
    "                   index_col=False)\n",
    "meta.drop(columns=['row', 'col'], inplace=True)  # delete repeated columns\n",
    "\n",
    "data = spatial_data.merge(meta, on='barcode', how='right')\n",
    "data = data[['barcode', 'row', 'col', 'pxl_row_in_fullres', 'pxl_col_in_fullres', 'expr_chrM']]\n",
    "data = data.dropna(subset=['expr_chrM'])  # delete missing data\n",
    "# labels\n",
    "label_mapping = {'L1': 1, 'L2': 2, 'L3': 3, 'L4': 4, 'L5': 5, 'L6': 6, 'WM': 0}  # DLPFC\n",
    "labels = data['expr_chrM'].map(label_mapping)\n",
    "# Annotated Data\n",
    "file_path = fr\"C:\\E\\JSU\\BIO\\file\\SpaGCN-master\\SpaGCN-master\\tutorial\\{slicename}\\filtered_feature_bc_matrix.h5\"\n",
    "adata = sc.read_10x_h5(file_path)\n",
    "adata = adata[data.index]\n",
    "adata.obsm['spatial'] = data[['row', 'col']].values"
   ],
   "id": "3f562c2168a62480",
   "outputs": [],
   "execution_count": 6
  },
  {
   "metadata": {
    "ExecuteTime": {
     "end_time": "2025-06-08T15:07:24.150498Z",
     "start_time": "2025-06-08T15:07:16.600557Z"
    }
   },
   "cell_type": "code",
   "source": [
    "from sklearn.decomposition import PCA  # sklearn PCA is used because PCA in scanpy is not stable. \n",
    "adata_X = PCA(n_components=200, random_state=42).fit_transform(adata.X)\n",
    "adata.obsm['X_pca'] = adata_X\n",
    "### Constructing neighborhood graph\n",
    "graph_dict = SEDR.graph_construction(adata, 12)\n",
    "print(graph_dict)"
   ],
   "id": "111f0ca359365441",
   "outputs": [
    {
     "name": "stdout",
     "output_type": "stream",
     "text": [
      "{'adj_norm': tensor(indices=tensor([[   0,   82,  247,  ..., 4020, 4132, 4220],\n",
      "                       [   0,    0,    0,  ..., 4220, 4220, 4220]]),\n",
      "       values=tensor([0.0769, 0.0693, 0.0741,  ..., 0.0769, 0.0769, 0.0769]),\n",
      "       size=(4221, 4221), nnz=55977, layout=torch.sparse_coo), 'adj_label': tensor(indices=tensor([[   0,    0,    0,  ..., 4220, 4220, 4220],\n",
      "                       [   0,   82,  247,  ..., 4020, 4132, 4220]]),\n",
      "       values=tensor([1., 1., 1.,  ..., 1., 1., 1.]),\n",
      "       size=(4221, 4221), nnz=55977, dtype=torch.float64,\n",
      "       layout=torch.sparse_coo), 'norm_value': 0.5015758523909648}\n"
     ]
    }
   ],
   "execution_count": 8
  },
  {
   "metadata": {
    "ExecuteTime": {
     "end_time": "2025-06-08T15:07:31.290422Z",
     "start_time": "2025-06-08T15:07:24.152503Z"
    }
   },
   "cell_type": "code",
   "source": [
    "sedr_net = SEDR.Sedr(adata.obsm['X_pca'], graph_dict, mode='clustering', device=device)\n",
    "using_dec = True\n",
    "if using_dec:\n",
    "    sedr_net.train_with_dec(N=1)\n",
    "else:\n",
    "    sedr_net.train_without_dec(N=1)\n",
    "sedr_feat, _, _, _ = sedr_net.process()\n",
    "adata.obsm['SEDR'] = sedr_feat"
   ],
   "id": "9c14065b1262b64e",
   "outputs": [
    {
     "name": "stderr",
     "output_type": "stream",
     "text": [
      "100%|██████████| 200/200 [00:03<00:00, 52.23it/s] \n",
      "100%|██████████| 200/200 [00:01<00:00, 112.99it/s]\n"
     ]
    }
   ],
   "execution_count": 9
  },
  {
   "metadata": {
    "ExecuteTime": {
     "end_time": "2025-06-08T15:07:36.795426Z",
     "start_time": "2025-06-08T15:07:31.290422Z"
    }
   },
   "cell_type": "code",
   "source": "SEDR.mclust_R(adata, n_clusters, use_rep='SEDR', key_added='SEDR')",
   "id": "8e6bda9d829105a6",
   "outputs": [
    {
     "name": "stderr",
     "output_type": "stream",
     "text": [
      "R[write to console]:                    __           __ \n",
      "   ____ ___  _____/ /_  _______/ /_\n",
      "  / __ `__ \\/ ___/ / / / / ___/ __/\n",
      " / / / / / / /__/ / /_/ (__  ) /_  \n",
      "/_/ /_/ /_/\\___/_/\\__,_/____/\\__/   version 6.1.1\n",
      "Type 'citation(\"mclust\")' for citing this R package in publications.\n",
      "\n"
     ]
    },
    {
     "name": "stdout",
     "output_type": "stream",
     "text": [
      "fitting ...\n",
      "  |======================================================================| 100%\n"
     ]
    },
    {
     "data": {
      "text/plain": [
       "AnnData object with n_obs × n_vars = 4221 × 33538\n",
       "    obs: 'SEDR'\n",
       "    var: 'gene_ids', 'feature_types', 'genome'\n",
       "    obsm: 'spatial', 'X_pca', 'SEDR'"
      ]
     },
     "execution_count": 10,
     "metadata": {},
     "output_type": "execute_result"
    }
   ],
   "execution_count": 10
  },
  {
   "metadata": {
    "ExecuteTime": {
     "end_time": "2025-06-08T15:09:02.511056Z",
     "start_time": "2025-06-08T15:09:02.488492Z"
    }
   },
   "cell_type": "code",
   "source": [
    "pred = adata.obs['SEDR']\n",
    "pred = pred.values.astype(int) - 1\n",
    "conf_mat = confusion_matrix(labels, pred, labels=np.arange(7))\n",
    "row_ind, col_ind = linear_sum_assignment(-conf_mat)\n",
    "mapping = {pred_label: true_label for true_label, pred_label in zip(row_ind, col_ind)}\n",
    "y_pred = np.array([mapping[p] for p in pred])\n",
    "adata.obs[\"pred\"] = y_pred\n",
    "ARI_s = adjusted_rand_score(y_pred, labels)\n",
    "acc_s = accuracy_score(y_pred, labels)\n",
    "print(\"ARI_s:\", ARI_s)\n",
    "print(\"acc_s\", acc_s)\n"
   ],
   "id": "2990e510add4f036",
   "outputs": [
    {
     "name": "stdout",
     "output_type": "stream",
     "text": [
      "ARI_s: 0.45153277809275477\n",
      "acc_s 0.6226012793176973\n"
     ]
    }
   ],
   "execution_count": 12
  }
 ],
 "metadata": {
  "kernelspec": {
   "display_name": "Python 3",
   "language": "python",
   "name": "python3"
  },
  "language_info": {
   "codemirror_mode": {
    "name": "ipython",
    "version": 2
   },
   "file_extension": ".py",
   "mimetype": "text/x-python",
   "name": "python",
   "nbconvert_exporter": "python",
   "pygments_lexer": "ipython2",
   "version": "2.7.6"
  }
 },
 "nbformat": 4,
 "nbformat_minor": 5
}
